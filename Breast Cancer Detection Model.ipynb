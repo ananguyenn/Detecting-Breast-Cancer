{
 "cells": [
  {
   "cell_type": "markdown",
   "id": "85150f04",
   "metadata": {},
   "source": [
    "# Capstone Project: Predicting Breast Cancer With Histology Images"
   ]
  },
  {
   "cell_type": "markdown",
   "id": "831f0436",
   "metadata": {},
   "source": [
    "## Name: Ana Nguyen\n",
    "## DTSC 691 Summer: Default Machine Learning Project "
   ]
  },
  {
   "cell_type": "markdown",
   "id": "dd8d62b1",
   "metadata": {},
   "source": [
    "# Goal of Project:\n",
    "\n",
    "Breast cancer is the second most diagnosed cancer in women, luckly, as technology and research advances death rates are decreasing and survival rates are increasing. Some signs and symptoms of breast cancer may be lumps or unusual thickness in the area and changes in appearance. If these unusual signs are noticed a doctor will then follow up with a mammogram or some type of histology/biopsy screening. After the screening, we can see if the tumor is benign or malignant. If the tumor is benign it means that it is non-cancerous because it will not spread to other parts of the body, however if it is malignant then the tumor is cancerous and can be very deadly. There are many things that can increase the chances of getting breast cancer such as, diet, genetics, and environmental factors. \n",
    "\n",
    "The first step to this project is to analyze the data and know what there is to work with. So to start off the project we will use the kaggle dataset, also found on sklearn datasets, that has Breast biopsy results and deeply understand the columns and rows presented. The research question will be if we can use this dataset to predict if the tumor is benign or malignant. We will first transform the data into a dataframe. Then, we will use the see the statistical values as well as check for missing values. It is also important to label the target value and anything else that will be needed later on. We will then have a train and a test set and will get results of how accurate the model was. We will use multiple models in this project and see which one performs the best. \n",
    "\n",
    "The goal of this project would be to see how accurate our classification could be. In the long run this can help diagnose patients more accurately and quickly. Doctor visits are very expensive and time consuming so this can be beneficial for a lot of people. Breast cancer can be a very unfortunate diagnosis but the earlier it is caught the more that can be done to stop the growth of the tumor.\n"
   ]
  },
  {
   "cell_type": "markdown",
   "id": "40c59af1",
   "metadata": {},
   "source": [
    "# Import the Data/ Data Exploration"
   ]
  },
  {
   "cell_type": "code",
   "execution_count": 1,
   "id": "d7587605",
   "metadata": {},
   "outputs": [],
   "source": [
    "import sklearn.datasets"
   ]
  },
  {
   "cell_type": "code",
   "execution_count": 2,
   "id": "6134fe46",
   "metadata": {},
   "outputs": [],
   "source": [
    "breastcancer_ds = sklearn.datasets.load_breast_cancer()"
   ]
  },
  {
   "cell_type": "code",
   "execution_count": 3,
   "id": "4aea35f6",
   "metadata": {},
   "outputs": [],
   "source": [
    "#Turning Dataset into DataFrame\n",
    "import pandas as pd\n",
    "bc_df =pd.DataFrame(breastcancer_ds.data, columns = breastcancer_ds.feature_names)"
   ]
  },
  {
   "cell_type": "code",
   "execution_count": 5,
   "id": "e1cbdff0",
   "metadata": {},
   "outputs": [
    {
     "data": {
      "text/html": [
       "<div>\n",
       "<style scoped>\n",
       "    .dataframe tbody tr th:only-of-type {\n",
       "        vertical-align: middle;\n",
       "    }\n",
       "\n",
       "    .dataframe tbody tr th {\n",
       "        vertical-align: top;\n",
       "    }\n",
       "\n",
       "    .dataframe thead th {\n",
       "        text-align: right;\n",
       "    }\n",
       "</style>\n",
       "<table border=\"1\" class=\"dataframe\">\n",
       "  <thead>\n",
       "    <tr style=\"text-align: right;\">\n",
       "      <th></th>\n",
       "      <th>mean radius</th>\n",
       "      <th>mean texture</th>\n",
       "      <th>mean perimeter</th>\n",
       "      <th>mean area</th>\n",
       "      <th>mean smoothness</th>\n",
       "      <th>mean compactness</th>\n",
       "      <th>mean concavity</th>\n",
       "      <th>mean concave points</th>\n",
       "      <th>mean symmetry</th>\n",
       "      <th>mean fractal dimension</th>\n",
       "      <th>...</th>\n",
       "      <th>worst texture</th>\n",
       "      <th>worst perimeter</th>\n",
       "      <th>worst area</th>\n",
       "      <th>worst smoothness</th>\n",
       "      <th>worst compactness</th>\n",
       "      <th>worst concavity</th>\n",
       "      <th>worst concave points</th>\n",
       "      <th>worst symmetry</th>\n",
       "      <th>worst fractal dimension</th>\n",
       "      <th>target</th>\n",
       "    </tr>\n",
       "  </thead>\n",
       "  <tbody>\n",
       "    <tr>\n",
       "      <th>0</th>\n",
       "      <td>17.99</td>\n",
       "      <td>10.38</td>\n",
       "      <td>122.80</td>\n",
       "      <td>1001.0</td>\n",
       "      <td>0.11840</td>\n",
       "      <td>0.27760</td>\n",
       "      <td>0.3001</td>\n",
       "      <td>0.14710</td>\n",
       "      <td>0.2419</td>\n",
       "      <td>0.07871</td>\n",
       "      <td>...</td>\n",
       "      <td>17.33</td>\n",
       "      <td>184.60</td>\n",
       "      <td>2019.0</td>\n",
       "      <td>0.1622</td>\n",
       "      <td>0.6656</td>\n",
       "      <td>0.7119</td>\n",
       "      <td>0.2654</td>\n",
       "      <td>0.4601</td>\n",
       "      <td>0.11890</td>\n",
       "      <td>0</td>\n",
       "    </tr>\n",
       "    <tr>\n",
       "      <th>1</th>\n",
       "      <td>20.57</td>\n",
       "      <td>17.77</td>\n",
       "      <td>132.90</td>\n",
       "      <td>1326.0</td>\n",
       "      <td>0.08474</td>\n",
       "      <td>0.07864</td>\n",
       "      <td>0.0869</td>\n",
       "      <td>0.07017</td>\n",
       "      <td>0.1812</td>\n",
       "      <td>0.05667</td>\n",
       "      <td>...</td>\n",
       "      <td>23.41</td>\n",
       "      <td>158.80</td>\n",
       "      <td>1956.0</td>\n",
       "      <td>0.1238</td>\n",
       "      <td>0.1866</td>\n",
       "      <td>0.2416</td>\n",
       "      <td>0.1860</td>\n",
       "      <td>0.2750</td>\n",
       "      <td>0.08902</td>\n",
       "      <td>0</td>\n",
       "    </tr>\n",
       "    <tr>\n",
       "      <th>2</th>\n",
       "      <td>19.69</td>\n",
       "      <td>21.25</td>\n",
       "      <td>130.00</td>\n",
       "      <td>1203.0</td>\n",
       "      <td>0.10960</td>\n",
       "      <td>0.15990</td>\n",
       "      <td>0.1974</td>\n",
       "      <td>0.12790</td>\n",
       "      <td>0.2069</td>\n",
       "      <td>0.05999</td>\n",
       "      <td>...</td>\n",
       "      <td>25.53</td>\n",
       "      <td>152.50</td>\n",
       "      <td>1709.0</td>\n",
       "      <td>0.1444</td>\n",
       "      <td>0.4245</td>\n",
       "      <td>0.4504</td>\n",
       "      <td>0.2430</td>\n",
       "      <td>0.3613</td>\n",
       "      <td>0.08758</td>\n",
       "      <td>0</td>\n",
       "    </tr>\n",
       "    <tr>\n",
       "      <th>3</th>\n",
       "      <td>11.42</td>\n",
       "      <td>20.38</td>\n",
       "      <td>77.58</td>\n",
       "      <td>386.1</td>\n",
       "      <td>0.14250</td>\n",
       "      <td>0.28390</td>\n",
       "      <td>0.2414</td>\n",
       "      <td>0.10520</td>\n",
       "      <td>0.2597</td>\n",
       "      <td>0.09744</td>\n",
       "      <td>...</td>\n",
       "      <td>26.50</td>\n",
       "      <td>98.87</td>\n",
       "      <td>567.7</td>\n",
       "      <td>0.2098</td>\n",
       "      <td>0.8663</td>\n",
       "      <td>0.6869</td>\n",
       "      <td>0.2575</td>\n",
       "      <td>0.6638</td>\n",
       "      <td>0.17300</td>\n",
       "      <td>0</td>\n",
       "    </tr>\n",
       "    <tr>\n",
       "      <th>4</th>\n",
       "      <td>20.29</td>\n",
       "      <td>14.34</td>\n",
       "      <td>135.10</td>\n",
       "      <td>1297.0</td>\n",
       "      <td>0.10030</td>\n",
       "      <td>0.13280</td>\n",
       "      <td>0.1980</td>\n",
       "      <td>0.10430</td>\n",
       "      <td>0.1809</td>\n",
       "      <td>0.05883</td>\n",
       "      <td>...</td>\n",
       "      <td>16.67</td>\n",
       "      <td>152.20</td>\n",
       "      <td>1575.0</td>\n",
       "      <td>0.1374</td>\n",
       "      <td>0.2050</td>\n",
       "      <td>0.4000</td>\n",
       "      <td>0.1625</td>\n",
       "      <td>0.2364</td>\n",
       "      <td>0.07678</td>\n",
       "      <td>0</td>\n",
       "    </tr>\n",
       "  </tbody>\n",
       "</table>\n",
       "<p>5 rows × 31 columns</p>\n",
       "</div>"
      ],
      "text/plain": [
       "   mean radius  mean texture  mean perimeter  mean area  mean smoothness  \\\n",
       "0        17.99         10.38          122.80     1001.0          0.11840   \n",
       "1        20.57         17.77          132.90     1326.0          0.08474   \n",
       "2        19.69         21.25          130.00     1203.0          0.10960   \n",
       "3        11.42         20.38           77.58      386.1          0.14250   \n",
       "4        20.29         14.34          135.10     1297.0          0.10030   \n",
       "\n",
       "   mean compactness  mean concavity  mean concave points  mean symmetry  \\\n",
       "0           0.27760          0.3001              0.14710         0.2419   \n",
       "1           0.07864          0.0869              0.07017         0.1812   \n",
       "2           0.15990          0.1974              0.12790         0.2069   \n",
       "3           0.28390          0.2414              0.10520         0.2597   \n",
       "4           0.13280          0.1980              0.10430         0.1809   \n",
       "\n",
       "   mean fractal dimension  ...  worst texture  worst perimeter  worst area  \\\n",
       "0                 0.07871  ...          17.33           184.60      2019.0   \n",
       "1                 0.05667  ...          23.41           158.80      1956.0   \n",
       "2                 0.05999  ...          25.53           152.50      1709.0   \n",
       "3                 0.09744  ...          26.50            98.87       567.7   \n",
       "4                 0.05883  ...          16.67           152.20      1575.0   \n",
       "\n",
       "   worst smoothness  worst compactness  worst concavity  worst concave points  \\\n",
       "0            0.1622             0.6656           0.7119                0.2654   \n",
       "1            0.1238             0.1866           0.2416                0.1860   \n",
       "2            0.1444             0.4245           0.4504                0.2430   \n",
       "3            0.2098             0.8663           0.6869                0.2575   \n",
       "4            0.1374             0.2050           0.4000                0.1625   \n",
       "\n",
       "   worst symmetry  worst fractal dimension  target  \n",
       "0          0.4601                  0.11890       0  \n",
       "1          0.2750                  0.08902       0  \n",
       "2          0.3613                  0.08758       0  \n",
       "3          0.6638                  0.17300       0  \n",
       "4          0.2364                  0.07678       0  \n",
       "\n",
       "[5 rows x 31 columns]"
      ]
     },
     "execution_count": 5,
     "metadata": {},
     "output_type": "execute_result"
    }
   ],
   "source": [
    "bc_df[\"target\"] = breastcancer_ds.target\n",
    "\n",
    "bc_df.head()"
   ]
  },
  {
   "cell_type": "code",
   "execution_count": 6,
   "id": "5d029628",
   "metadata": {},
   "outputs": [
    {
     "data": {
      "text/html": [
       "<div>\n",
       "<style scoped>\n",
       "    .dataframe tbody tr th:only-of-type {\n",
       "        vertical-align: middle;\n",
       "    }\n",
       "\n",
       "    .dataframe tbody tr th {\n",
       "        vertical-align: top;\n",
       "    }\n",
       "\n",
       "    .dataframe thead th {\n",
       "        text-align: right;\n",
       "    }\n",
       "</style>\n",
       "<table border=\"1\" class=\"dataframe\">\n",
       "  <thead>\n",
       "    <tr style=\"text-align: right;\">\n",
       "      <th></th>\n",
       "      <th>mean radius</th>\n",
       "      <th>mean texture</th>\n",
       "      <th>mean perimeter</th>\n",
       "      <th>mean area</th>\n",
       "      <th>mean smoothness</th>\n",
       "      <th>mean compactness</th>\n",
       "      <th>mean concavity</th>\n",
       "      <th>mean concave points</th>\n",
       "      <th>mean symmetry</th>\n",
       "      <th>mean fractal dimension</th>\n",
       "      <th>...</th>\n",
       "      <th>worst texture</th>\n",
       "      <th>worst perimeter</th>\n",
       "      <th>worst area</th>\n",
       "      <th>worst smoothness</th>\n",
       "      <th>worst compactness</th>\n",
       "      <th>worst concavity</th>\n",
       "      <th>worst concave points</th>\n",
       "      <th>worst symmetry</th>\n",
       "      <th>worst fractal dimension</th>\n",
       "      <th>target</th>\n",
       "    </tr>\n",
       "  </thead>\n",
       "  <tbody>\n",
       "    <tr>\n",
       "      <th>0</th>\n",
       "      <td>17.99</td>\n",
       "      <td>10.38</td>\n",
       "      <td>122.80</td>\n",
       "      <td>1001.0</td>\n",
       "      <td>0.11840</td>\n",
       "      <td>0.27760</td>\n",
       "      <td>0.3001</td>\n",
       "      <td>0.14710</td>\n",
       "      <td>0.2419</td>\n",
       "      <td>0.07871</td>\n",
       "      <td>...</td>\n",
       "      <td>17.33</td>\n",
       "      <td>184.60</td>\n",
       "      <td>2019.0</td>\n",
       "      <td>0.1622</td>\n",
       "      <td>0.6656</td>\n",
       "      <td>0.7119</td>\n",
       "      <td>0.2654</td>\n",
       "      <td>0.4601</td>\n",
       "      <td>0.11890</td>\n",
       "      <td>0</td>\n",
       "    </tr>\n",
       "    <tr>\n",
       "      <th>1</th>\n",
       "      <td>20.57</td>\n",
       "      <td>17.77</td>\n",
       "      <td>132.90</td>\n",
       "      <td>1326.0</td>\n",
       "      <td>0.08474</td>\n",
       "      <td>0.07864</td>\n",
       "      <td>0.0869</td>\n",
       "      <td>0.07017</td>\n",
       "      <td>0.1812</td>\n",
       "      <td>0.05667</td>\n",
       "      <td>...</td>\n",
       "      <td>23.41</td>\n",
       "      <td>158.80</td>\n",
       "      <td>1956.0</td>\n",
       "      <td>0.1238</td>\n",
       "      <td>0.1866</td>\n",
       "      <td>0.2416</td>\n",
       "      <td>0.1860</td>\n",
       "      <td>0.2750</td>\n",
       "      <td>0.08902</td>\n",
       "      <td>0</td>\n",
       "    </tr>\n",
       "    <tr>\n",
       "      <th>2</th>\n",
       "      <td>19.69</td>\n",
       "      <td>21.25</td>\n",
       "      <td>130.00</td>\n",
       "      <td>1203.0</td>\n",
       "      <td>0.10960</td>\n",
       "      <td>0.15990</td>\n",
       "      <td>0.1974</td>\n",
       "      <td>0.12790</td>\n",
       "      <td>0.2069</td>\n",
       "      <td>0.05999</td>\n",
       "      <td>...</td>\n",
       "      <td>25.53</td>\n",
       "      <td>152.50</td>\n",
       "      <td>1709.0</td>\n",
       "      <td>0.1444</td>\n",
       "      <td>0.4245</td>\n",
       "      <td>0.4504</td>\n",
       "      <td>0.2430</td>\n",
       "      <td>0.3613</td>\n",
       "      <td>0.08758</td>\n",
       "      <td>0</td>\n",
       "    </tr>\n",
       "    <tr>\n",
       "      <th>3</th>\n",
       "      <td>11.42</td>\n",
       "      <td>20.38</td>\n",
       "      <td>77.58</td>\n",
       "      <td>386.1</td>\n",
       "      <td>0.14250</td>\n",
       "      <td>0.28390</td>\n",
       "      <td>0.2414</td>\n",
       "      <td>0.10520</td>\n",
       "      <td>0.2597</td>\n",
       "      <td>0.09744</td>\n",
       "      <td>...</td>\n",
       "      <td>26.50</td>\n",
       "      <td>98.87</td>\n",
       "      <td>567.7</td>\n",
       "      <td>0.2098</td>\n",
       "      <td>0.8663</td>\n",
       "      <td>0.6869</td>\n",
       "      <td>0.2575</td>\n",
       "      <td>0.6638</td>\n",
       "      <td>0.17300</td>\n",
       "      <td>0</td>\n",
       "    </tr>\n",
       "    <tr>\n",
       "      <th>4</th>\n",
       "      <td>20.29</td>\n",
       "      <td>14.34</td>\n",
       "      <td>135.10</td>\n",
       "      <td>1297.0</td>\n",
       "      <td>0.10030</td>\n",
       "      <td>0.13280</td>\n",
       "      <td>0.1980</td>\n",
       "      <td>0.10430</td>\n",
       "      <td>0.1809</td>\n",
       "      <td>0.05883</td>\n",
       "      <td>...</td>\n",
       "      <td>16.67</td>\n",
       "      <td>152.20</td>\n",
       "      <td>1575.0</td>\n",
       "      <td>0.1374</td>\n",
       "      <td>0.2050</td>\n",
       "      <td>0.4000</td>\n",
       "      <td>0.1625</td>\n",
       "      <td>0.2364</td>\n",
       "      <td>0.07678</td>\n",
       "      <td>0</td>\n",
       "    </tr>\n",
       "  </tbody>\n",
       "</table>\n",
       "<p>5 rows × 31 columns</p>\n",
       "</div>"
      ],
      "text/plain": [
       "   mean radius  mean texture  mean perimeter  mean area  mean smoothness  \\\n",
       "0        17.99         10.38          122.80     1001.0          0.11840   \n",
       "1        20.57         17.77          132.90     1326.0          0.08474   \n",
       "2        19.69         21.25          130.00     1203.0          0.10960   \n",
       "3        11.42         20.38           77.58      386.1          0.14250   \n",
       "4        20.29         14.34          135.10     1297.0          0.10030   \n",
       "\n",
       "   mean compactness  mean concavity  mean concave points  mean symmetry  \\\n",
       "0           0.27760          0.3001              0.14710         0.2419   \n",
       "1           0.07864          0.0869              0.07017         0.1812   \n",
       "2           0.15990          0.1974              0.12790         0.2069   \n",
       "3           0.28390          0.2414              0.10520         0.2597   \n",
       "4           0.13280          0.1980              0.10430         0.1809   \n",
       "\n",
       "   mean fractal dimension  ...  worst texture  worst perimeter  worst area  \\\n",
       "0                 0.07871  ...          17.33           184.60      2019.0   \n",
       "1                 0.05667  ...          23.41           158.80      1956.0   \n",
       "2                 0.05999  ...          25.53           152.50      1709.0   \n",
       "3                 0.09744  ...          26.50            98.87       567.7   \n",
       "4                 0.05883  ...          16.67           152.20      1575.0   \n",
       "\n",
       "   worst smoothness  worst compactness  worst concavity  worst concave points  \\\n",
       "0            0.1622             0.6656           0.7119                0.2654   \n",
       "1            0.1238             0.1866           0.2416                0.1860   \n",
       "2            0.1444             0.4245           0.4504                0.2430   \n",
       "3            0.2098             0.8663           0.6869                0.2575   \n",
       "4            0.1374             0.2050           0.4000                0.1625   \n",
       "\n",
       "   worst symmetry  worst fractal dimension  target  \n",
       "0          0.4601                  0.11890       0  \n",
       "1          0.2750                  0.08902       0  \n",
       "2          0.3613                  0.08758       0  \n",
       "3          0.6638                  0.17300       0  \n",
       "4          0.2364                  0.07678       0  \n",
       "\n",
       "[5 rows x 31 columns]"
      ]
     },
     "execution_count": 6,
     "metadata": {},
     "output_type": "execute_result"
    }
   ],
   "source": [
    "bc_df.head()"
   ]
  },
  {
   "cell_type": "code",
   "execution_count": 7,
   "id": "585a39e7",
   "metadata": {},
   "outputs": [
    {
     "data": {
      "text/html": [
       "<div>\n",
       "<style scoped>\n",
       "    .dataframe tbody tr th:only-of-type {\n",
       "        vertical-align: middle;\n",
       "    }\n",
       "\n",
       "    .dataframe tbody tr th {\n",
       "        vertical-align: top;\n",
       "    }\n",
       "\n",
       "    .dataframe thead th {\n",
       "        text-align: right;\n",
       "    }\n",
       "</style>\n",
       "<table border=\"1\" class=\"dataframe\">\n",
       "  <thead>\n",
       "    <tr style=\"text-align: right;\">\n",
       "      <th></th>\n",
       "      <th>mean radius</th>\n",
       "      <th>mean texture</th>\n",
       "      <th>mean perimeter</th>\n",
       "      <th>mean area</th>\n",
       "      <th>mean smoothness</th>\n",
       "      <th>mean compactness</th>\n",
       "      <th>mean concavity</th>\n",
       "      <th>mean concave points</th>\n",
       "      <th>mean symmetry</th>\n",
       "      <th>mean fractal dimension</th>\n",
       "      <th>...</th>\n",
       "      <th>worst texture</th>\n",
       "      <th>worst perimeter</th>\n",
       "      <th>worst area</th>\n",
       "      <th>worst smoothness</th>\n",
       "      <th>worst compactness</th>\n",
       "      <th>worst concavity</th>\n",
       "      <th>worst concave points</th>\n",
       "      <th>worst symmetry</th>\n",
       "      <th>worst fractal dimension</th>\n",
       "      <th>target</th>\n",
       "    </tr>\n",
       "  </thead>\n",
       "  <tbody>\n",
       "    <tr>\n",
       "      <th>count</th>\n",
       "      <td>569.000000</td>\n",
       "      <td>569.000000</td>\n",
       "      <td>569.000000</td>\n",
       "      <td>569.000000</td>\n",
       "      <td>569.000000</td>\n",
       "      <td>569.000000</td>\n",
       "      <td>569.000000</td>\n",
       "      <td>569.000000</td>\n",
       "      <td>569.000000</td>\n",
       "      <td>569.000000</td>\n",
       "      <td>...</td>\n",
       "      <td>569.000000</td>\n",
       "      <td>569.000000</td>\n",
       "      <td>569.000000</td>\n",
       "      <td>569.000000</td>\n",
       "      <td>569.000000</td>\n",
       "      <td>569.000000</td>\n",
       "      <td>569.000000</td>\n",
       "      <td>569.000000</td>\n",
       "      <td>569.000000</td>\n",
       "      <td>569.000000</td>\n",
       "    </tr>\n",
       "    <tr>\n",
       "      <th>mean</th>\n",
       "      <td>14.127292</td>\n",
       "      <td>19.289649</td>\n",
       "      <td>91.969033</td>\n",
       "      <td>654.889104</td>\n",
       "      <td>0.096360</td>\n",
       "      <td>0.104341</td>\n",
       "      <td>0.088799</td>\n",
       "      <td>0.048919</td>\n",
       "      <td>0.181162</td>\n",
       "      <td>0.062798</td>\n",
       "      <td>...</td>\n",
       "      <td>25.677223</td>\n",
       "      <td>107.261213</td>\n",
       "      <td>880.583128</td>\n",
       "      <td>0.132369</td>\n",
       "      <td>0.254265</td>\n",
       "      <td>0.272188</td>\n",
       "      <td>0.114606</td>\n",
       "      <td>0.290076</td>\n",
       "      <td>0.083946</td>\n",
       "      <td>0.627417</td>\n",
       "    </tr>\n",
       "    <tr>\n",
       "      <th>std</th>\n",
       "      <td>3.524049</td>\n",
       "      <td>4.301036</td>\n",
       "      <td>24.298981</td>\n",
       "      <td>351.914129</td>\n",
       "      <td>0.014064</td>\n",
       "      <td>0.052813</td>\n",
       "      <td>0.079720</td>\n",
       "      <td>0.038803</td>\n",
       "      <td>0.027414</td>\n",
       "      <td>0.007060</td>\n",
       "      <td>...</td>\n",
       "      <td>6.146258</td>\n",
       "      <td>33.602542</td>\n",
       "      <td>569.356993</td>\n",
       "      <td>0.022832</td>\n",
       "      <td>0.157336</td>\n",
       "      <td>0.208624</td>\n",
       "      <td>0.065732</td>\n",
       "      <td>0.061867</td>\n",
       "      <td>0.018061</td>\n",
       "      <td>0.483918</td>\n",
       "    </tr>\n",
       "    <tr>\n",
       "      <th>min</th>\n",
       "      <td>6.981000</td>\n",
       "      <td>9.710000</td>\n",
       "      <td>43.790000</td>\n",
       "      <td>143.500000</td>\n",
       "      <td>0.052630</td>\n",
       "      <td>0.019380</td>\n",
       "      <td>0.000000</td>\n",
       "      <td>0.000000</td>\n",
       "      <td>0.106000</td>\n",
       "      <td>0.049960</td>\n",
       "      <td>...</td>\n",
       "      <td>12.020000</td>\n",
       "      <td>50.410000</td>\n",
       "      <td>185.200000</td>\n",
       "      <td>0.071170</td>\n",
       "      <td>0.027290</td>\n",
       "      <td>0.000000</td>\n",
       "      <td>0.000000</td>\n",
       "      <td>0.156500</td>\n",
       "      <td>0.055040</td>\n",
       "      <td>0.000000</td>\n",
       "    </tr>\n",
       "    <tr>\n",
       "      <th>25%</th>\n",
       "      <td>11.700000</td>\n",
       "      <td>16.170000</td>\n",
       "      <td>75.170000</td>\n",
       "      <td>420.300000</td>\n",
       "      <td>0.086370</td>\n",
       "      <td>0.064920</td>\n",
       "      <td>0.029560</td>\n",
       "      <td>0.020310</td>\n",
       "      <td>0.161900</td>\n",
       "      <td>0.057700</td>\n",
       "      <td>...</td>\n",
       "      <td>21.080000</td>\n",
       "      <td>84.110000</td>\n",
       "      <td>515.300000</td>\n",
       "      <td>0.116600</td>\n",
       "      <td>0.147200</td>\n",
       "      <td>0.114500</td>\n",
       "      <td>0.064930</td>\n",
       "      <td>0.250400</td>\n",
       "      <td>0.071460</td>\n",
       "      <td>0.000000</td>\n",
       "    </tr>\n",
       "    <tr>\n",
       "      <th>50%</th>\n",
       "      <td>13.370000</td>\n",
       "      <td>18.840000</td>\n",
       "      <td>86.240000</td>\n",
       "      <td>551.100000</td>\n",
       "      <td>0.095870</td>\n",
       "      <td>0.092630</td>\n",
       "      <td>0.061540</td>\n",
       "      <td>0.033500</td>\n",
       "      <td>0.179200</td>\n",
       "      <td>0.061540</td>\n",
       "      <td>...</td>\n",
       "      <td>25.410000</td>\n",
       "      <td>97.660000</td>\n",
       "      <td>686.500000</td>\n",
       "      <td>0.131300</td>\n",
       "      <td>0.211900</td>\n",
       "      <td>0.226700</td>\n",
       "      <td>0.099930</td>\n",
       "      <td>0.282200</td>\n",
       "      <td>0.080040</td>\n",
       "      <td>1.000000</td>\n",
       "    </tr>\n",
       "    <tr>\n",
       "      <th>75%</th>\n",
       "      <td>15.780000</td>\n",
       "      <td>21.800000</td>\n",
       "      <td>104.100000</td>\n",
       "      <td>782.700000</td>\n",
       "      <td>0.105300</td>\n",
       "      <td>0.130400</td>\n",
       "      <td>0.130700</td>\n",
       "      <td>0.074000</td>\n",
       "      <td>0.195700</td>\n",
       "      <td>0.066120</td>\n",
       "      <td>...</td>\n",
       "      <td>29.720000</td>\n",
       "      <td>125.400000</td>\n",
       "      <td>1084.000000</td>\n",
       "      <td>0.146000</td>\n",
       "      <td>0.339100</td>\n",
       "      <td>0.382900</td>\n",
       "      <td>0.161400</td>\n",
       "      <td>0.317900</td>\n",
       "      <td>0.092080</td>\n",
       "      <td>1.000000</td>\n",
       "    </tr>\n",
       "    <tr>\n",
       "      <th>max</th>\n",
       "      <td>28.110000</td>\n",
       "      <td>39.280000</td>\n",
       "      <td>188.500000</td>\n",
       "      <td>2501.000000</td>\n",
       "      <td>0.163400</td>\n",
       "      <td>0.345400</td>\n",
       "      <td>0.426800</td>\n",
       "      <td>0.201200</td>\n",
       "      <td>0.304000</td>\n",
       "      <td>0.097440</td>\n",
       "      <td>...</td>\n",
       "      <td>49.540000</td>\n",
       "      <td>251.200000</td>\n",
       "      <td>4254.000000</td>\n",
       "      <td>0.222600</td>\n",
       "      <td>1.058000</td>\n",
       "      <td>1.252000</td>\n",
       "      <td>0.291000</td>\n",
       "      <td>0.663800</td>\n",
       "      <td>0.207500</td>\n",
       "      <td>1.000000</td>\n",
       "    </tr>\n",
       "  </tbody>\n",
       "</table>\n",
       "<p>8 rows × 31 columns</p>\n",
       "</div>"
      ],
      "text/plain": [
       "       mean radius  mean texture  mean perimeter    mean area  \\\n",
       "count   569.000000    569.000000      569.000000   569.000000   \n",
       "mean     14.127292     19.289649       91.969033   654.889104   \n",
       "std       3.524049      4.301036       24.298981   351.914129   \n",
       "min       6.981000      9.710000       43.790000   143.500000   \n",
       "25%      11.700000     16.170000       75.170000   420.300000   \n",
       "50%      13.370000     18.840000       86.240000   551.100000   \n",
       "75%      15.780000     21.800000      104.100000   782.700000   \n",
       "max      28.110000     39.280000      188.500000  2501.000000   \n",
       "\n",
       "       mean smoothness  mean compactness  mean concavity  mean concave points  \\\n",
       "count       569.000000        569.000000      569.000000           569.000000   \n",
       "mean          0.096360          0.104341        0.088799             0.048919   \n",
       "std           0.014064          0.052813        0.079720             0.038803   \n",
       "min           0.052630          0.019380        0.000000             0.000000   \n",
       "25%           0.086370          0.064920        0.029560             0.020310   \n",
       "50%           0.095870          0.092630        0.061540             0.033500   \n",
       "75%           0.105300          0.130400        0.130700             0.074000   \n",
       "max           0.163400          0.345400        0.426800             0.201200   \n",
       "\n",
       "       mean symmetry  mean fractal dimension  ...  worst texture  \\\n",
       "count     569.000000              569.000000  ...     569.000000   \n",
       "mean        0.181162                0.062798  ...      25.677223   \n",
       "std         0.027414                0.007060  ...       6.146258   \n",
       "min         0.106000                0.049960  ...      12.020000   \n",
       "25%         0.161900                0.057700  ...      21.080000   \n",
       "50%         0.179200                0.061540  ...      25.410000   \n",
       "75%         0.195700                0.066120  ...      29.720000   \n",
       "max         0.304000                0.097440  ...      49.540000   \n",
       "\n",
       "       worst perimeter   worst area  worst smoothness  worst compactness  \\\n",
       "count       569.000000   569.000000        569.000000         569.000000   \n",
       "mean        107.261213   880.583128          0.132369           0.254265   \n",
       "std          33.602542   569.356993          0.022832           0.157336   \n",
       "min          50.410000   185.200000          0.071170           0.027290   \n",
       "25%          84.110000   515.300000          0.116600           0.147200   \n",
       "50%          97.660000   686.500000          0.131300           0.211900   \n",
       "75%         125.400000  1084.000000          0.146000           0.339100   \n",
       "max         251.200000  4254.000000          0.222600           1.058000   \n",
       "\n",
       "       worst concavity  worst concave points  worst symmetry  \\\n",
       "count       569.000000            569.000000      569.000000   \n",
       "mean          0.272188              0.114606        0.290076   \n",
       "std           0.208624              0.065732        0.061867   \n",
       "min           0.000000              0.000000        0.156500   \n",
       "25%           0.114500              0.064930        0.250400   \n",
       "50%           0.226700              0.099930        0.282200   \n",
       "75%           0.382900              0.161400        0.317900   \n",
       "max           1.252000              0.291000        0.663800   \n",
       "\n",
       "       worst fractal dimension      target  \n",
       "count               569.000000  569.000000  \n",
       "mean                  0.083946    0.627417  \n",
       "std                   0.018061    0.483918  \n",
       "min                   0.055040    0.000000  \n",
       "25%                   0.071460    0.000000  \n",
       "50%                   0.080040    1.000000  \n",
       "75%                   0.092080    1.000000  \n",
       "max                   0.207500    1.000000  \n",
       "\n",
       "[8 rows x 31 columns]"
      ]
     },
     "execution_count": 7,
     "metadata": {},
     "output_type": "execute_result"
    }
   ],
   "source": [
    "bc_df.describe()"
   ]
  },
  {
   "cell_type": "code",
   "execution_count": 8,
   "id": "313dbd5c",
   "metadata": {},
   "outputs": [
    {
     "name": "stdout",
     "output_type": "stream",
     "text": [
      "<class 'pandas.core.frame.DataFrame'>\n",
      "RangeIndex: 569 entries, 0 to 568\n",
      "Data columns (total 31 columns):\n",
      " #   Column                   Non-Null Count  Dtype  \n",
      "---  ------                   --------------  -----  \n",
      " 0   mean radius              569 non-null    float64\n",
      " 1   mean texture             569 non-null    float64\n",
      " 2   mean perimeter           569 non-null    float64\n",
      " 3   mean area                569 non-null    float64\n",
      " 4   mean smoothness          569 non-null    float64\n",
      " 5   mean compactness         569 non-null    float64\n",
      " 6   mean concavity           569 non-null    float64\n",
      " 7   mean concave points      569 non-null    float64\n",
      " 8   mean symmetry            569 non-null    float64\n",
      " 9   mean fractal dimension   569 non-null    float64\n",
      " 10  radius error             569 non-null    float64\n",
      " 11  texture error            569 non-null    float64\n",
      " 12  perimeter error          569 non-null    float64\n",
      " 13  area error               569 non-null    float64\n",
      " 14  smoothness error         569 non-null    float64\n",
      " 15  compactness error        569 non-null    float64\n",
      " 16  concavity error          569 non-null    float64\n",
      " 17  concave points error     569 non-null    float64\n",
      " 18  symmetry error           569 non-null    float64\n",
      " 19  fractal dimension error  569 non-null    float64\n",
      " 20  worst radius             569 non-null    float64\n",
      " 21  worst texture            569 non-null    float64\n",
      " 22  worst perimeter          569 non-null    float64\n",
      " 23  worst area               569 non-null    float64\n",
      " 24  worst smoothness         569 non-null    float64\n",
      " 25  worst compactness        569 non-null    float64\n",
      " 26  worst concavity          569 non-null    float64\n",
      " 27  worst concave points     569 non-null    float64\n",
      " 28  worst symmetry           569 non-null    float64\n",
      " 29  worst fractal dimension  569 non-null    float64\n",
      " 30  target                   569 non-null    int64  \n",
      "dtypes: float64(30), int64(1)\n",
      "memory usage: 137.9 KB\n"
     ]
    }
   ],
   "source": [
    "#Checking for Null Values\n",
    "bc_df.info()"
   ]
  },
  {
   "cell_type": "code",
   "execution_count": 9,
   "id": "555ff531",
   "metadata": {},
   "outputs": [
    {
     "data": {
      "text/plain": [
       "(569, 31)"
      ]
     },
     "execution_count": 9,
     "metadata": {},
     "output_type": "execute_result"
    }
   ],
   "source": [
    "#Checking to see the shape of the dataframe\n",
    "bc_df.shape"
   ]
  },
  {
   "cell_type": "markdown",
   "id": "16775df1",
   "metadata": {},
   "source": [
    "# Multicollinearity  "
   ]
  },
  {
   "cell_type": "code",
   "execution_count": 10,
   "id": "d74284b6",
   "metadata": {},
   "outputs": [
    {
     "name": "stderr",
     "output_type": "stream",
     "text": [
      "/Users/ananguyen/opt/anaconda3/lib/python3.8/site-packages/statsmodels/compat/pandas.py:61: FutureWarning: pandas.Int64Index is deprecated and will be removed from pandas in a future version. Use pandas.Index with the appropriate dtype instead.\n",
      "  from pandas import Int64Index as NumericIndex\n"
     ]
    }
   ],
   "source": [
    "from statsmodels.stats.outliers_influence import variance_inflation_factor"
   ]
  },
  {
   "cell_type": "code",
   "execution_count": 11,
   "id": "70ce4dde",
   "metadata": {},
   "outputs": [],
   "source": [
    "#selecting the variables for the Multicollinearity\n",
    "variables = bc_df[['mean radius','mean texture', 'mean perimeter', 'mean area','mean smoothness','mean compactness','mean concavity'           \n",
    ",'mean concave points','mean symmetry','mean fractal dimension','radius error','texture error','perimeter error','area error','smoothness error','compactness error','concavity error','concave points error','symmetry error','fractal dimension error','worst radius','worst texture','worst perimeter','worst area'               ,'worst smoothness'       ,'worst compactness'         \n",
    ",'worst concave points','worst symmetry','worst fractal dimension']]"
   ]
  },
  {
   "cell_type": "code",
   "execution_count": 12,
   "id": "df863cc5",
   "metadata": {},
   "outputs": [
    {
     "name": "stderr",
     "output_type": "stream",
     "text": [
      "/var/folders/sm/9t5np44965b8p5stm2zb_4lm0000gn/T/ipykernel_81527/1523224820.py:1: SettingWithCopyWarning: \n",
      "A value is trying to be set on a copy of a slice from a DataFrame.\n",
      "Try using .loc[row_indexer,col_indexer] = value instead\n",
      "\n",
      "See the caveats in the documentation: https://pandas.pydata.org/pandas-docs/stable/user_guide/indexing.html#returning-a-view-versus-a-copy\n",
      "  variables['Intercept'] = 1\n"
     ]
    }
   ],
   "source": [
    "variables['Intercept'] = 1"
   ]
  },
  {
   "cell_type": "code",
   "execution_count": 13,
   "id": "d0b55b57",
   "metadata": {},
   "outputs": [
    {
     "data": {
      "text/html": [
       "<div>\n",
       "<style scoped>\n",
       "    .dataframe tbody tr th:only-of-type {\n",
       "        vertical-align: middle;\n",
       "    }\n",
       "\n",
       "    .dataframe tbody tr th {\n",
       "        vertical-align: top;\n",
       "    }\n",
       "\n",
       "    .dataframe thead th {\n",
       "        text-align: right;\n",
       "    }\n",
       "</style>\n",
       "<table border=\"1\" class=\"dataframe\">\n",
       "  <thead>\n",
       "    <tr style=\"text-align: right;\">\n",
       "      <th></th>\n",
       "      <th>Variables</th>\n",
       "      <th>Variance Inflation Factor</th>\n",
       "    </tr>\n",
       "  </thead>\n",
       "  <tbody>\n",
       "    <tr>\n",
       "      <th>0</th>\n",
       "      <td>mean radius</td>\n",
       "      <td>3805.855324</td>\n",
       "    </tr>\n",
       "    <tr>\n",
       "      <th>1</th>\n",
       "      <td>mean texture</td>\n",
       "      <td>11.872055</td>\n",
       "    </tr>\n",
       "    <tr>\n",
       "      <th>2</th>\n",
       "      <td>mean perimeter</td>\n",
       "      <td>3783.906840</td>\n",
       "    </tr>\n",
       "    <tr>\n",
       "      <th>3</th>\n",
       "      <td>mean area</td>\n",
       "      <td>344.441828</td>\n",
       "    </tr>\n",
       "    <tr>\n",
       "      <th>4</th>\n",
       "      <td>mean smoothness</td>\n",
       "      <td>8.131919</td>\n",
       "    </tr>\n",
       "    <tr>\n",
       "      <th>5</th>\n",
       "      <td>mean compactness</td>\n",
       "      <td>48.378558</td>\n",
       "    </tr>\n",
       "    <tr>\n",
       "      <th>6</th>\n",
       "      <td>mean concavity</td>\n",
       "      <td>49.327780</td>\n",
       "    </tr>\n",
       "    <tr>\n",
       "      <th>7</th>\n",
       "      <td>mean concave points</td>\n",
       "      <td>54.090922</td>\n",
       "    </tr>\n",
       "    <tr>\n",
       "      <th>8</th>\n",
       "      <td>mean symmetry</td>\n",
       "      <td>4.217313</td>\n",
       "    </tr>\n",
       "    <tr>\n",
       "      <th>9</th>\n",
       "      <td>mean fractal dimension</td>\n",
       "      <td>15.554377</td>\n",
       "    </tr>\n",
       "    <tr>\n",
       "      <th>10</th>\n",
       "      <td>radius error</td>\n",
       "      <td>75.461799</td>\n",
       "    </tr>\n",
       "    <tr>\n",
       "      <th>11</th>\n",
       "      <td>texture error</td>\n",
       "      <td>4.204759</td>\n",
       "    </tr>\n",
       "    <tr>\n",
       "      <th>12</th>\n",
       "      <td>perimeter error</td>\n",
       "      <td>70.104544</td>\n",
       "    </tr>\n",
       "    <tr>\n",
       "      <th>13</th>\n",
       "      <td>area error</td>\n",
       "      <td>40.519175</td>\n",
       "    </tr>\n",
       "    <tr>\n",
       "      <th>14</th>\n",
       "      <td>smoothness error</td>\n",
       "      <td>4.021003</td>\n",
       "    </tr>\n",
       "    <tr>\n",
       "      <th>15</th>\n",
       "      <td>compactness error</td>\n",
       "      <td>15.363135</td>\n",
       "    </tr>\n",
       "    <tr>\n",
       "      <th>16</th>\n",
       "      <td>concavity error</td>\n",
       "      <td>14.182688</td>\n",
       "    </tr>\n",
       "    <tr>\n",
       "      <th>17</th>\n",
       "      <td>concave points error</td>\n",
       "      <td>11.185536</td>\n",
       "    </tr>\n",
       "    <tr>\n",
       "      <th>18</th>\n",
       "      <td>symmetry error</td>\n",
       "      <td>5.164924</td>\n",
       "    </tr>\n",
       "    <tr>\n",
       "      <th>19</th>\n",
       "      <td>fractal dimension error</td>\n",
       "      <td>9.249184</td>\n",
       "    </tr>\n",
       "    <tr>\n",
       "      <th>20</th>\n",
       "      <td>worst radius</td>\n",
       "      <td>798.431297</td>\n",
       "    </tr>\n",
       "    <tr>\n",
       "      <th>21</th>\n",
       "      <td>worst texture</td>\n",
       "      <td>18.558386</td>\n",
       "    </tr>\n",
       "    <tr>\n",
       "      <th>22</th>\n",
       "      <td>worst perimeter</td>\n",
       "      <td>404.488242</td>\n",
       "    </tr>\n",
       "    <tr>\n",
       "      <th>23</th>\n",
       "      <td>worst area</td>\n",
       "      <td>334.623392</td>\n",
       "    </tr>\n",
       "    <tr>\n",
       "      <th>24</th>\n",
       "      <td>worst smoothness</td>\n",
       "      <td>10.917832</td>\n",
       "    </tr>\n",
       "    <tr>\n",
       "      <th>25</th>\n",
       "      <td>worst compactness</td>\n",
       "      <td>32.713163</td>\n",
       "    </tr>\n",
       "    <tr>\n",
       "      <th>26</th>\n",
       "      <td>worst concave points</td>\n",
       "      <td>32.795562</td>\n",
       "    </tr>\n",
       "    <tr>\n",
       "      <th>27</th>\n",
       "      <td>worst symmetry</td>\n",
       "      <td>9.471543</td>\n",
       "    </tr>\n",
       "    <tr>\n",
       "      <th>28</th>\n",
       "      <td>worst fractal dimension</td>\n",
       "      <td>17.847954</td>\n",
       "    </tr>\n",
       "    <tr>\n",
       "      <th>29</th>\n",
       "      <td>Intercept</td>\n",
       "      <td>1864.373360</td>\n",
       "    </tr>\n",
       "  </tbody>\n",
       "</table>\n",
       "</div>"
      ],
      "text/plain": [
       "                  Variables  Variance Inflation Factor\n",
       "0               mean radius                3805.855324\n",
       "1              mean texture                  11.872055\n",
       "2            mean perimeter                3783.906840\n",
       "3                 mean area                 344.441828\n",
       "4           mean smoothness                   8.131919\n",
       "5          mean compactness                  48.378558\n",
       "6            mean concavity                  49.327780\n",
       "7       mean concave points                  54.090922\n",
       "8             mean symmetry                   4.217313\n",
       "9    mean fractal dimension                  15.554377\n",
       "10             radius error                  75.461799\n",
       "11            texture error                   4.204759\n",
       "12          perimeter error                  70.104544\n",
       "13               area error                  40.519175\n",
       "14         smoothness error                   4.021003\n",
       "15        compactness error                  15.363135\n",
       "16          concavity error                  14.182688\n",
       "17     concave points error                  11.185536\n",
       "18           symmetry error                   5.164924\n",
       "19  fractal dimension error                   9.249184\n",
       "20             worst radius                 798.431297\n",
       "21            worst texture                  18.558386\n",
       "22          worst perimeter                 404.488242\n",
       "23               worst area                 334.623392\n",
       "24         worst smoothness                  10.917832\n",
       "25        worst compactness                  32.713163\n",
       "26     worst concave points                  32.795562\n",
       "27           worst symmetry                   9.471543\n",
       "28  worst fractal dimension                  17.847954\n",
       "29                Intercept                1864.373360"
      ]
     },
     "execution_count": 13,
     "metadata": {},
     "output_type": "execute_result"
    }
   ],
   "source": [
    "# VIF\n",
    "Variance_Inflation_Factor = pd.DataFrame()\n",
    "Variance_Inflation_Factor[\"Variables\"] = variables.columns\n",
    "Variance_Inflation_Factor[\"Variance Inflation Factor\"] = [variance_inflation_factor(variables.values, i) for i in range(variables.shape[1])]\n",
    "Variance_Inflation_Factor"
   ]
  },
  {
   "cell_type": "code",
   "execution_count": 14,
   "id": "770f4bcc",
   "metadata": {},
   "outputs": [],
   "source": [
    "#Dropping all columns that are have a VIF<10\n",
    "bc_df = bc_df.drop(columns=['worst fractal dimension', 'worst concave points', 'worst compactness','worst smoothness','worst radius',\n",
    "'worst texture','worst perimeter', 'worst area','compactness error','concavity error','concave points error', 'perimeter error', 'area error', 'mean fractal dimension',\n",
    "'radius error','mean compactness','mean concavity','mean concave points','mean perimeter','mean radius','mean area' ])"
   ]
  },
  {
   "cell_type": "code",
   "execution_count": 15,
   "id": "3459d123",
   "metadata": {},
   "outputs": [
    {
     "data": {
      "text/html": [
       "<div>\n",
       "<style scoped>\n",
       "    .dataframe tbody tr th:only-of-type {\n",
       "        vertical-align: middle;\n",
       "    }\n",
       "\n",
       "    .dataframe tbody tr th {\n",
       "        vertical-align: top;\n",
       "    }\n",
       "\n",
       "    .dataframe thead th {\n",
       "        text-align: right;\n",
       "    }\n",
       "</style>\n",
       "<table border=\"1\" class=\"dataframe\">\n",
       "  <thead>\n",
       "    <tr style=\"text-align: right;\">\n",
       "      <th></th>\n",
       "      <th>mean texture</th>\n",
       "      <th>mean smoothness</th>\n",
       "      <th>mean symmetry</th>\n",
       "      <th>texture error</th>\n",
       "      <th>smoothness error</th>\n",
       "      <th>symmetry error</th>\n",
       "      <th>fractal dimension error</th>\n",
       "      <th>worst concavity</th>\n",
       "      <th>worst symmetry</th>\n",
       "      <th>target</th>\n",
       "    </tr>\n",
       "  </thead>\n",
       "  <tbody>\n",
       "    <tr>\n",
       "      <th>0</th>\n",
       "      <td>10.38</td>\n",
       "      <td>0.11840</td>\n",
       "      <td>0.2419</td>\n",
       "      <td>0.9053</td>\n",
       "      <td>0.006399</td>\n",
       "      <td>0.03003</td>\n",
       "      <td>0.006193</td>\n",
       "      <td>0.7119</td>\n",
       "      <td>0.4601</td>\n",
       "      <td>0</td>\n",
       "    </tr>\n",
       "    <tr>\n",
       "      <th>1</th>\n",
       "      <td>17.77</td>\n",
       "      <td>0.08474</td>\n",
       "      <td>0.1812</td>\n",
       "      <td>0.7339</td>\n",
       "      <td>0.005225</td>\n",
       "      <td>0.01389</td>\n",
       "      <td>0.003532</td>\n",
       "      <td>0.2416</td>\n",
       "      <td>0.2750</td>\n",
       "      <td>0</td>\n",
       "    </tr>\n",
       "    <tr>\n",
       "      <th>2</th>\n",
       "      <td>21.25</td>\n",
       "      <td>0.10960</td>\n",
       "      <td>0.2069</td>\n",
       "      <td>0.7869</td>\n",
       "      <td>0.006150</td>\n",
       "      <td>0.02250</td>\n",
       "      <td>0.004571</td>\n",
       "      <td>0.4504</td>\n",
       "      <td>0.3613</td>\n",
       "      <td>0</td>\n",
       "    </tr>\n",
       "    <tr>\n",
       "      <th>3</th>\n",
       "      <td>20.38</td>\n",
       "      <td>0.14250</td>\n",
       "      <td>0.2597</td>\n",
       "      <td>1.1560</td>\n",
       "      <td>0.009110</td>\n",
       "      <td>0.05963</td>\n",
       "      <td>0.009208</td>\n",
       "      <td>0.6869</td>\n",
       "      <td>0.6638</td>\n",
       "      <td>0</td>\n",
       "    </tr>\n",
       "    <tr>\n",
       "      <th>4</th>\n",
       "      <td>14.34</td>\n",
       "      <td>0.10030</td>\n",
       "      <td>0.1809</td>\n",
       "      <td>0.7813</td>\n",
       "      <td>0.011490</td>\n",
       "      <td>0.01756</td>\n",
       "      <td>0.005115</td>\n",
       "      <td>0.4000</td>\n",
       "      <td>0.2364</td>\n",
       "      <td>0</td>\n",
       "    </tr>\n",
       "    <tr>\n",
       "      <th>...</th>\n",
       "      <td>...</td>\n",
       "      <td>...</td>\n",
       "      <td>...</td>\n",
       "      <td>...</td>\n",
       "      <td>...</td>\n",
       "      <td>...</td>\n",
       "      <td>...</td>\n",
       "      <td>...</td>\n",
       "      <td>...</td>\n",
       "      <td>...</td>\n",
       "    </tr>\n",
       "    <tr>\n",
       "      <th>564</th>\n",
       "      <td>22.39</td>\n",
       "      <td>0.11100</td>\n",
       "      <td>0.1726</td>\n",
       "      <td>1.2560</td>\n",
       "      <td>0.010300</td>\n",
       "      <td>0.01114</td>\n",
       "      <td>0.004239</td>\n",
       "      <td>0.4107</td>\n",
       "      <td>0.2060</td>\n",
       "      <td>0</td>\n",
       "    </tr>\n",
       "    <tr>\n",
       "      <th>565</th>\n",
       "      <td>28.25</td>\n",
       "      <td>0.09780</td>\n",
       "      <td>0.1752</td>\n",
       "      <td>2.4630</td>\n",
       "      <td>0.005769</td>\n",
       "      <td>0.01898</td>\n",
       "      <td>0.002498</td>\n",
       "      <td>0.3215</td>\n",
       "      <td>0.2572</td>\n",
       "      <td>0</td>\n",
       "    </tr>\n",
       "    <tr>\n",
       "      <th>566</th>\n",
       "      <td>28.08</td>\n",
       "      <td>0.08455</td>\n",
       "      <td>0.1590</td>\n",
       "      <td>1.0750</td>\n",
       "      <td>0.005903</td>\n",
       "      <td>0.01318</td>\n",
       "      <td>0.003892</td>\n",
       "      <td>0.3403</td>\n",
       "      <td>0.2218</td>\n",
       "      <td>0</td>\n",
       "    </tr>\n",
       "    <tr>\n",
       "      <th>567</th>\n",
       "      <td>29.33</td>\n",
       "      <td>0.11780</td>\n",
       "      <td>0.2397</td>\n",
       "      <td>1.5950</td>\n",
       "      <td>0.006522</td>\n",
       "      <td>0.02324</td>\n",
       "      <td>0.006185</td>\n",
       "      <td>0.9387</td>\n",
       "      <td>0.4087</td>\n",
       "      <td>0</td>\n",
       "    </tr>\n",
       "    <tr>\n",
       "      <th>568</th>\n",
       "      <td>24.54</td>\n",
       "      <td>0.05263</td>\n",
       "      <td>0.1587</td>\n",
       "      <td>1.4280</td>\n",
       "      <td>0.007189</td>\n",
       "      <td>0.02676</td>\n",
       "      <td>0.002783</td>\n",
       "      <td>0.0000</td>\n",
       "      <td>0.2871</td>\n",
       "      <td>1</td>\n",
       "    </tr>\n",
       "  </tbody>\n",
       "</table>\n",
       "<p>569 rows × 10 columns</p>\n",
       "</div>"
      ],
      "text/plain": [
       "     mean texture  mean smoothness  mean symmetry  texture error  \\\n",
       "0           10.38          0.11840         0.2419         0.9053   \n",
       "1           17.77          0.08474         0.1812         0.7339   \n",
       "2           21.25          0.10960         0.2069         0.7869   \n",
       "3           20.38          0.14250         0.2597         1.1560   \n",
       "4           14.34          0.10030         0.1809         0.7813   \n",
       "..            ...              ...            ...            ...   \n",
       "564         22.39          0.11100         0.1726         1.2560   \n",
       "565         28.25          0.09780         0.1752         2.4630   \n",
       "566         28.08          0.08455         0.1590         1.0750   \n",
       "567         29.33          0.11780         0.2397         1.5950   \n",
       "568         24.54          0.05263         0.1587         1.4280   \n",
       "\n",
       "     smoothness error  symmetry error  fractal dimension error  \\\n",
       "0            0.006399         0.03003                 0.006193   \n",
       "1            0.005225         0.01389                 0.003532   \n",
       "2            0.006150         0.02250                 0.004571   \n",
       "3            0.009110         0.05963                 0.009208   \n",
       "4            0.011490         0.01756                 0.005115   \n",
       "..                ...             ...                      ...   \n",
       "564          0.010300         0.01114                 0.004239   \n",
       "565          0.005769         0.01898                 0.002498   \n",
       "566          0.005903         0.01318                 0.003892   \n",
       "567          0.006522         0.02324                 0.006185   \n",
       "568          0.007189         0.02676                 0.002783   \n",
       "\n",
       "     worst concavity  worst symmetry  target  \n",
       "0             0.7119          0.4601       0  \n",
       "1             0.2416          0.2750       0  \n",
       "2             0.4504          0.3613       0  \n",
       "3             0.6869          0.6638       0  \n",
       "4             0.4000          0.2364       0  \n",
       "..               ...             ...     ...  \n",
       "564           0.4107          0.2060       0  \n",
       "565           0.3215          0.2572       0  \n",
       "566           0.3403          0.2218       0  \n",
       "567           0.9387          0.4087       0  \n",
       "568           0.0000          0.2871       1  \n",
       "\n",
       "[569 rows x 10 columns]"
      ]
     },
     "execution_count": 15,
     "metadata": {},
     "output_type": "execute_result"
    }
   ],
   "source": [
    "bc_df"
   ]
  },
  {
   "cell_type": "markdown",
   "id": "a920e5fa",
   "metadata": {},
   "source": [
    "# Detecting Outliers For Each of The Variables"
   ]
  },
  {
   "cell_type": "code",
   "execution_count": 16,
   "id": "ca5e9536",
   "metadata": {},
   "outputs": [
    {
     "data": {
      "text/plain": [
       "<AxesSubplot:xlabel='mean texture'>"
      ]
     },
     "execution_count": 16,
     "metadata": {},
     "output_type": "execute_result"
    },
    {
     "data": {
      "image/png": "[encoded data removed]",
      "text/plain": [
       "<Figure size 432x288 with 1 Axes>"
      ]
     },
     "metadata": {
      "needs_background": "light"
     },
     "output_type": "display_data"
    }
   ],
   "source": [
    "import seaborn as sns\n",
    "sns.boxplot(x=bc_df['mean texture'])"
   ]
  },
  {
   "cell_type": "code",
   "execution_count": 17,
   "id": "ac8a6a44",
   "metadata": {},
   "outputs": [
    {
     "name": "stderr",
     "output_type": "stream",
     "text": [
      "/Users/ananguyen/opt/anaconda3/lib/python3.8/site-packages/seaborn/distributions.py:2619: FutureWarning: `distplot` is a deprecated function and will be removed in a future version. Please adapt your code to use either `displot` (a figure-level function with similar flexibility) or `histplot` (an axes-level function for histograms).\n",
      "  warnings.warn(msg, FutureWarning)\n"
     ]
    },
    {
     "data": {
      "text/plain": [
       "<AxesSubplot:xlabel='mean texture'>"
      ]
     },
     "execution_count": 17,
     "metadata": {},
     "output_type": "execute_result"
    },
    {
     "data": {
      "image/png": "[encoded data removed]",
      "text/plain": [
       "<Figure size 432x288 with 1 Axes>"
      ]
     },
     "metadata": {
      "needs_background": "light"
     },
     "output_type": "display_data"
    }
   ],
   "source": [
    "sns.distplot(bc_df['mean texture'], bins = 15, kde = False)"
   ]
  },
  {
   "cell_type": "code",
   "execution_count": 18,
   "id": "0fe92fd7",
   "metadata": {},
   "outputs": [],
   "source": [
    "Q1= bc_df['mean texture'].quantile(0.25)"
   ]
  },
  {
   "cell_type": "code",
   "execution_count": 19,
   "id": "a09a1822",
   "metadata": {},
   "outputs": [],
   "source": [
    "Q3= bc_df['mean texture'].quantile(0.75)"
   ]
  },
  {
   "cell_type": "code",
   "execution_count": 20,
   "id": "7c1db245",
   "metadata": {},
   "outputs": [
    {
     "data": {
      "text/plain": [
       "5.629999999999999"
      ]
     },
     "execution_count": 20,
     "metadata": {},
     "output_type": "execute_result"
    }
   ],
   "source": [
    "QR_mean = Q3 - Q1\n",
    "QR_mean"
   ]
  },
  {
   "cell_type": "code",
   "execution_count": 21,
   "id": "347f5b16",
   "metadata": {},
   "outputs": [
    {
     "data": {
      "text/plain": [
       "7.725000000000003"
      ]
     },
     "execution_count": 21,
     "metadata": {},
     "output_type": "execute_result"
    }
   ],
   "source": [
    "Acceptable_Q1 = Q1 - 1.5 * QR_mean\n",
    "Acceptable_Q1"
   ]
  },
  {
   "cell_type": "code",
   "execution_count": 22,
   "id": "a8d904b6",
   "metadata": {},
   "outputs": [
    {
     "data": {
      "text/plain": [
       "24.615000000000002"
      ]
     },
     "execution_count": 22,
     "metadata": {},
     "output_type": "execute_result"
    }
   ],
   "source": [
    "Acceptable_Q3 = Q1 + 1.5 * QR_mean\n",
    "Acceptable_Q3"
   ]
  },
  {
   "cell_type": "code",
   "execution_count": 23,
   "id": "1be873a1",
   "metadata": {},
   "outputs": [],
   "source": [
    "Remove_outliers_Q1 = (bc_df['mean texture']<Acceptable_Q1)"
   ]
  },
  {
   "cell_type": "code",
   "execution_count": 24,
   "id": "88d58aca",
   "metadata": {},
   "outputs": [],
   "source": [
    "Remove_outliers_Q3 = (bc_df['mean texture']>Acceptable_Q3)"
   ]
  },
  {
   "cell_type": "code",
   "execution_count": 25,
   "id": "ec3aa613",
   "metadata": {},
   "outputs": [
    {
     "data": {
      "text/plain": [
       "0      10.38\n",
       "1      17.77\n",
       "2      21.25\n",
       "3      20.38\n",
       "4      14.34\n",
       "       ...  \n",
       "556    19.59\n",
       "558    22.68\n",
       "559    23.93\n",
       "564    22.39\n",
       "568    24.54\n",
       "Name: mean texture, Length: 504, dtype: float64"
      ]
     },
     "execution_count": 25,
     "metadata": {},
     "output_type": "execute_result"
    }
   ],
   "source": [
    "bc_df['mean texture'][~(Remove_outliers_Q1|Remove_outliers_Q3)]"
   ]
  },
  {
   "cell_type": "code",
   "execution_count": 26,
   "id": "44cea50c",
   "metadata": {},
   "outputs": [],
   "source": [
    "bc_df= bc_df[~(Remove_outliers_Q1|Remove_outliers_Q3)]"
   ]
  },
  {
   "cell_type": "code",
   "execution_count": 27,
   "id": "828dd44e",
   "metadata": {},
   "outputs": [
    {
     "data": {
      "text/plain": [
       "0      10.38\n",
       "1      17.77\n",
       "2      21.25\n",
       "3      20.38\n",
       "4      14.34\n",
       "       ...  \n",
       "556    19.59\n",
       "558    22.68\n",
       "559    23.93\n",
       "564    22.39\n",
       "568    24.54\n",
       "Name: mean texture, Length: 504, dtype: float64"
      ]
     },
     "execution_count": 27,
     "metadata": {},
     "output_type": "execute_result"
    }
   ],
   "source": [
    "bc_df[\"mean texture\"]"
   ]
  },
  {
   "cell_type": "code",
   "execution_count": 28,
   "id": "52ad1168",
   "metadata": {},
   "outputs": [
    {
     "data": {
      "text/plain": [
       "<AxesSubplot:xlabel='mean texture'>"
      ]
     },
     "execution_count": 28,
     "metadata": {},
     "output_type": "execute_result"
    },
    {
     "data": {
      "image/png": "[encoded data removed]",
      "text/plain": [
       "<Figure size 432x288 with 1 Axes>"
      ]
     },
     "metadata": {
      "needs_background": "light"
     },
     "output_type": "display_data"
    }
   ],
   "source": [
    "import seaborn as sns\n",
    "sns.boxplot(x=bc_df['mean texture'])"
   ]
  },
  {
   "cell_type": "code",
   "execution_count": 29,
   "id": "5baa4de2",
   "metadata": {},
   "outputs": [
    {
     "data": {
      "text/plain": [
       "<AxesSubplot:xlabel='mean smoothness'>"
      ]
     },
     "execution_count": 29,
     "metadata": {},
     "output_type": "execute_result"
    },
    {
     "data": {
      "image/png": "[encoded data removed]",
      "text/plain": [
       "<Figure size 432x288 with 1 Axes>"
      ]
     },
     "metadata": {
      "needs_background": "light"
     },
     "output_type": "display_data"
    }
   ],
   "source": [
    "import seaborn as sns\n",
    "sns.boxplot(x=bc_df['mean smoothness'])"
   ]
  },
  {
   "cell_type": "code",
   "execution_count": 30,
   "id": "80406e30",
   "metadata": {},
   "outputs": [],
   "source": [
    "Q1s= bc_df['mean smoothness'].quantile(0.25)"
   ]
  },
  {
   "cell_type": "code",
   "execution_count": 31,
   "id": "adf33050",
   "metadata": {},
   "outputs": [],
   "source": [
    "Q3s= bc_df['mean smoothness'].quantile(0.75)"
   ]
  },
  {
   "cell_type": "code",
   "execution_count": 32,
   "id": "d14b5017",
   "metadata": {},
   "outputs": [
    {
     "data": {
      "text/plain": [
       "0.01932499999999998"
      ]
     },
     "execution_count": 32,
     "metadata": {},
     "output_type": "execute_result"
    }
   ],
   "source": [
    "QR_smooth = Q3s - Q1s\n",
    "QR_smooth"
   ]
  },
  {
   "cell_type": "code",
   "execution_count": 33,
   "id": "097f5671",
   "metadata": {},
   "outputs": [
    {
     "data": {
      "text/plain": [
       "0.05761250000000004"
      ]
     },
     "execution_count": 33,
     "metadata": {},
     "output_type": "execute_result"
    }
   ],
   "source": [
    "Acceptable_Q1s = Q1s - 1.5 * QR_smooth\n",
    "Acceptable_Q1s"
   ]
  },
  {
   "cell_type": "code",
   "execution_count": 34,
   "id": "984afabc",
   "metadata": {},
   "outputs": [
    {
     "data": {
      "text/plain": [
       "0.13491249999999996"
      ]
     },
     "execution_count": 34,
     "metadata": {},
     "output_type": "execute_result"
    }
   ],
   "source": [
    "Acceptable_Q3s = Q3s + 1.5 * QR_smooth\n",
    "Acceptable_Q3s"
   ]
  },
  {
   "cell_type": "code",
   "execution_count": 35,
   "id": "dace7f15",
   "metadata": {},
   "outputs": [],
   "source": [
    "Remove_outliers_Q1s = (bc_df['mean smoothness']<Acceptable_Q1s)"
   ]
  },
  {
   "cell_type": "code",
   "execution_count": 36,
   "id": "dad67cef",
   "metadata": {},
   "outputs": [],
   "source": [
    "Remove_outliers_Q3s = (bc_df['mean smoothness']>Acceptable_Q3s)"
   ]
  },
  {
   "cell_type": "code",
   "execution_count": 37,
   "id": "4b49228b",
   "metadata": {},
   "outputs": [
    {
     "data": {
      "text/plain": [
       "0      0.11840\n",
       "1      0.08474\n",
       "2      0.10960\n",
       "4      0.10030\n",
       "5      0.12780\n",
       "        ...   \n",
       "553    0.09240\n",
       "556    0.10030\n",
       "558    0.08473\n",
       "559    0.09261\n",
       "564    0.11100\n",
       "Name: mean smoothness, Length: 498, dtype: float64"
      ]
     },
     "execution_count": 37,
     "metadata": {},
     "output_type": "execute_result"
    }
   ],
   "source": [
    "bc_df['mean smoothness'][~(Remove_outliers_Q1s|Remove_outliers_Q3s)]"
   ]
  },
  {
   "cell_type": "code",
   "execution_count": 38,
   "id": "3cba43d3",
   "metadata": {},
   "outputs": [],
   "source": [
    "bc_df= bc_df[~(Remove_outliers_Q1s|Remove_outliers_Q3s)]"
   ]
  },
  {
   "cell_type": "code",
   "execution_count": 39,
   "id": "1cca117b",
   "metadata": {},
   "outputs": [
    {
     "data": {
      "text/plain": [
       "<AxesSubplot:xlabel='mean smoothness'>"
      ]
     },
     "execution_count": 39,
     "metadata": {},
     "output_type": "execute_result"
    },
    {
     "data": {
      "image/png": "[encoded data removed]",
      "text/plain": [
       "<Figure size 432x288 with 1 Axes>"
      ]
     },
     "metadata": {
      "needs_background": "light"
     },
     "output_type": "display_data"
    }
   ],
   "source": [
    "import seaborn as sns\n",
    "sns.boxplot(x=bc_df['mean smoothness'])"
   ]
  },
  {
   "cell_type": "code",
   "execution_count": 40,
   "id": "3821be50",
   "metadata": {},
   "outputs": [
    {
     "data": {
      "text/plain": [
       "<AxesSubplot:xlabel='mean symmetry'>"
      ]
     },
     "execution_count": 40,
     "metadata": {},
     "output_type": "execute_result"
    },
    {
     "data": {
      "image/png": "[encoded data removed]",
      "text/plain": [
       "<Figure size 432x288 with 1 Axes>"
      ]
     },
     "metadata": {
      "needs_background": "light"
     },
     "output_type": "display_data"
    }
   ],
   "source": [
    "import seaborn as sns\n",
    "sns.boxplot(x=bc_df['mean symmetry'])"
   ]
  },
  {
   "cell_type": "code",
   "execution_count": 41,
   "id": "f175d805",
   "metadata": {},
   "outputs": [],
   "source": [
    "Q1sy= bc_df['mean symmetry'].quantile(0.25)"
   ]
  },
  {
   "cell_type": "code",
   "execution_count": 42,
   "id": "e53a9bc8",
   "metadata": {},
   "outputs": [],
   "source": [
    "Q3sy= bc_df['mean symmetry'].quantile(0.75)"
   ]
  },
  {
   "cell_type": "code",
   "execution_count": 43,
   "id": "698ce819",
   "metadata": {},
   "outputs": [
    {
     "data": {
      "text/plain": [
       "0.03370000000000001"
      ]
     },
     "execution_count": 43,
     "metadata": {},
     "output_type": "execute_result"
    }
   ],
   "source": [
    "QR_symmetry = Q3sy - Q1sy\n",
    "QR_symmetry"
   ]
  },
  {
   "cell_type": "code",
   "execution_count": 44,
   "id": "5a4a286b",
   "metadata": {},
   "outputs": [
    {
     "data": {
      "text/plain": [
       "0.11145"
      ]
     },
     "execution_count": 44,
     "metadata": {},
     "output_type": "execute_result"
    }
   ],
   "source": [
    "Acceptable_Q1sy = Q1sy - 1.5 * QR_symmetry\n",
    "Acceptable_Q1sy"
   ]
  },
  {
   "cell_type": "code",
   "execution_count": 45,
   "id": "14dda41d",
   "metadata": {},
   "outputs": [
    {
     "data": {
      "text/plain": [
       "0.24625000000000002"
      ]
     },
     "execution_count": 45,
     "metadata": {},
     "output_type": "execute_result"
    }
   ],
   "source": [
    "Acceptable_Q3sy = Q3sy + 1.5 * QR_symmetry\n",
    "Acceptable_Q3sy"
   ]
  },
  {
   "cell_type": "code",
   "execution_count": 46,
   "id": "9f8f6d90",
   "metadata": {},
   "outputs": [],
   "source": [
    "Remove_outliers_Q1sy = (bc_df['mean symmetry']<Acceptable_Q1sy)"
   ]
  },
  {
   "cell_type": "code",
   "execution_count": 47,
   "id": "a0974335",
   "metadata": {},
   "outputs": [],
   "source": [
    "Remove_outliers_Q3sy = (bc_df['mean symmetry']>Acceptable_Q3sy)"
   ]
  },
  {
   "cell_type": "code",
   "execution_count": 48,
   "id": "88ce81f2",
   "metadata": {},
   "outputs": [
    {
     "data": {
      "text/plain": [
       "0      0.2419\n",
       "1      0.1812\n",
       "2      0.2069\n",
       "4      0.1809\n",
       "5      0.2087\n",
       "        ...  \n",
       "553    0.1692\n",
       "556    0.1791\n",
       "558    0.1454\n",
       "559    0.1388\n",
       "564    0.1726\n",
       "Name: mean symmetry, Length: 486, dtype: float64"
      ]
     },
     "execution_count": 48,
     "metadata": {},
     "output_type": "execute_result"
    }
   ],
   "source": [
    "bc_df['mean symmetry'][~(Remove_outliers_Q1sy|Remove_outliers_Q3sy)]"
   ]
  },
  {
   "cell_type": "code",
   "execution_count": 49,
   "id": "0c167cda",
   "metadata": {},
   "outputs": [],
   "source": [
    "bc_df= bc_df[~(Remove_outliers_Q1sy|Remove_outliers_Q3sy)]"
   ]
  },
  {
   "cell_type": "code",
   "execution_count": 50,
   "id": "d96e5fe5",
   "metadata": {},
   "outputs": [
    {
     "data": {
      "text/plain": [
       "<AxesSubplot:xlabel='mean symmetry'>"
      ]
     },
     "execution_count": 50,
     "metadata": {},
     "output_type": "execute_result"
    },
    {
     "data": {
      "image/png": "[encoded data removed]",
      "text/plain": [
       "<Figure size 432x288 with 1 Axes>"
      ]
     },
     "metadata": {
      "needs_background": "light"
     },
     "output_type": "display_data"
    }
   ],
   "source": [
    "import seaborn as sns\n",
    "sns.boxplot(x=bc_df['mean symmetry'])"
   ]
  },
  {
   "cell_type": "code",
   "execution_count": 51,
   "id": "8e53bdf1",
   "metadata": {},
   "outputs": [
    {
     "data": {
      "text/plain": [
       "<AxesSubplot:xlabel='texture error'>"
      ]
     },
     "execution_count": 51,
     "metadata": {},
     "output_type": "execute_result"
    },
    {
     "data": {
      "image/png": "[encoded data removed]",
      "text/plain": [
       "<Figure size 432x288 with 1 Axes>"
      ]
     },
     "metadata": {
      "needs_background": "light"
     },
     "output_type": "display_data"
    }
   ],
   "source": [
    "import seaborn as sns\n",
    "sns.boxplot(x=bc_df['texture error'])"
   ]
  },
  {
   "cell_type": "code",
   "execution_count": 52,
   "id": "3900c652",
   "metadata": {},
   "outputs": [],
   "source": [
    "Q1t= bc_df['texture error'].quantile(0.25)"
   ]
  },
  {
   "cell_type": "code",
   "execution_count": 53,
   "id": "08c25736",
   "metadata": {},
   "outputs": [],
   "source": [
    "Q3t= bc_df['texture error'].quantile(0.75)"
   ]
  },
  {
   "cell_type": "code",
   "execution_count": 54,
   "id": "6935f9fb",
   "metadata": {},
   "outputs": [
    {
     "data": {
      "text/plain": [
       "0.60605"
      ]
     },
     "execution_count": 54,
     "metadata": {},
     "output_type": "execute_result"
    }
   ],
   "source": [
    "QR_texture = Q3t - Q1t\n",
    "QR_texture"
   ]
  },
  {
   "cell_type": "code",
   "execution_count": 55,
   "id": "942eb4e8",
   "metadata": {},
   "outputs": [
    {
     "data": {
      "text/plain": [
       "-0.10912500000000003"
      ]
     },
     "execution_count": 55,
     "metadata": {},
     "output_type": "execute_result"
    }
   ],
   "source": [
    "Acceptable_Q1t = Q1t - 1.5 * QR_texture\n",
    "Acceptable_Q1t"
   ]
  },
  {
   "cell_type": "code",
   "execution_count": 56,
   "id": "15775f47",
   "metadata": {},
   "outputs": [
    {
     "data": {
      "text/plain": [
       "2.3150749999999998"
      ]
     },
     "execution_count": 56,
     "metadata": {},
     "output_type": "execute_result"
    }
   ],
   "source": [
    "Acceptable_Q3t = Q3t + 1.5 * QR_texture\n",
    "Acceptable_Q3t"
   ]
  },
  {
   "cell_type": "code",
   "execution_count": 57,
   "id": "d2a1dd1c",
   "metadata": {},
   "outputs": [],
   "source": [
    "Remove_outliers_Q1t = (bc_df['texture error']<Acceptable_Q1t)"
   ]
  },
  {
   "cell_type": "code",
   "execution_count": 58,
   "id": "917e4408",
   "metadata": {},
   "outputs": [],
   "source": [
    "Remove_outliers_Q3t = (bc_df['texture error']>Acceptable_Q3t)"
   ]
  },
  {
   "cell_type": "code",
   "execution_count": 59,
   "id": "6a7369e5",
   "metadata": {},
   "outputs": [
    {
     "data": {
      "text/plain": [
       "0      0.9053\n",
       "1      0.7339\n",
       "2      0.7869\n",
       "4      0.7813\n",
       "5      0.8902\n",
       "        ...  \n",
       "551    1.4670\n",
       "553    1.8790\n",
       "556    2.0900\n",
       "558    1.1080\n",
       "564    1.2560\n",
       "Name: texture error, Length: 475, dtype: float64"
      ]
     },
     "execution_count": 59,
     "metadata": {},
     "output_type": "execute_result"
    }
   ],
   "source": [
    "bc_df['texture error'][~(Remove_outliers_Q1t|Remove_outliers_Q3t)]"
   ]
  },
  {
   "cell_type": "code",
   "execution_count": 60,
   "id": "b348ca5d",
   "metadata": {},
   "outputs": [],
   "source": [
    "bc_df= bc_df[~(Remove_outliers_Q1t|Remove_outliers_Q3t)]"
   ]
  },
  {
   "cell_type": "code",
   "execution_count": 61,
   "id": "ac62a4ac",
   "metadata": {},
   "outputs": [
    {
     "data": {
      "text/plain": [
       "<AxesSubplot:xlabel='texture error'>"
      ]
     },
     "execution_count": 61,
     "metadata": {},
     "output_type": "execute_result"
    },
    {
     "data": {
      "image/png": "[encoded data removed]",
      "text/plain": [
       "<Figure size 432x288 with 1 Axes>"
      ]
     },
     "metadata": {
      "needs_background": "light"
     },
     "output_type": "display_data"
    }
   ],
   "source": [
    "import seaborn as sns\n",
    "sns.boxplot(x=bc_df['texture error'])"
   ]
  },
  {
   "cell_type": "code",
   "execution_count": 62,
   "id": "2374035a",
   "metadata": {},
   "outputs": [
    {
     "data": {
      "text/plain": [
       "<AxesSubplot:xlabel='smoothness error'>"
      ]
     },
     "execution_count": 62,
     "metadata": {},
     "output_type": "execute_result"
    },
    {
     "data": {
      "image/png": "[encoded data removed]",
      "text/plain": [
       "<Figure size 432x288 with 1 Axes>"
      ]
     },
     "metadata": {
      "needs_background": "light"
     },
     "output_type": "display_data"
    }
   ],
   "source": [
    "import seaborn as sns\n",
    "sns.boxplot(x=bc_df['smoothness error'])"
   ]
  },
  {
   "cell_type": "code",
   "execution_count": 63,
   "id": "4ce34c65",
   "metadata": {},
   "outputs": [],
   "source": [
    "Q1se= bc_df['smoothness error'].quantile(0.25)"
   ]
  },
  {
   "cell_type": "code",
   "execution_count": 64,
   "id": "900b6f4c",
   "metadata": {},
   "outputs": [],
   "source": [
    "Q3se= bc_df['smoothness error'].quantile(0.75)"
   ]
  },
  {
   "cell_type": "code",
   "execution_count": 65,
   "id": "de283e4f",
   "metadata": {},
   "outputs": [
    {
     "data": {
      "text/plain": [
       "0.0029065000000000002"
      ]
     },
     "execution_count": 65,
     "metadata": {},
     "output_type": "execute_result"
    }
   ],
   "source": [
    "QR_smooth_error = Q3se - Q1se\n",
    "QR_smooth_error"
   ]
  },
  {
   "cell_type": "code",
   "execution_count": 66,
   "id": "559ce106",
   "metadata": {},
   "outputs": [
    {
     "data": {
      "text/plain": [
       "0.0007202499999999995"
      ]
     },
     "execution_count": 66,
     "metadata": {},
     "output_type": "execute_result"
    }
   ],
   "source": [
    "Acceptable_Q1se = Q1se - 1.5 * QR_smooth_error\n",
    "Acceptable_Q1se"
   ]
  },
  {
   "cell_type": "code",
   "execution_count": 67,
   "id": "6a942a01",
   "metadata": {},
   "outputs": [
    {
     "data": {
      "text/plain": [
       "0.012346250000000001"
      ]
     },
     "execution_count": 67,
     "metadata": {},
     "output_type": "execute_result"
    }
   ],
   "source": [
    "Acceptable_Q3se = Q3se + 1.5 * QR_smooth_error\n",
    "Acceptable_Q3se"
   ]
  },
  {
   "cell_type": "code",
   "execution_count": 68,
   "id": "836e94c1",
   "metadata": {},
   "outputs": [],
   "source": [
    "Remove_outliers_Q1se = (bc_df['smoothness error']<Acceptable_Q1se)"
   ]
  },
  {
   "cell_type": "code",
   "execution_count": 69,
   "id": "1f272b78",
   "metadata": {},
   "outputs": [],
   "source": [
    "Remove_outliers_Q3se = (bc_df['smoothness error']>Acceptable_Q3se)"
   ]
  },
  {
   "cell_type": "code",
   "execution_count": 70,
   "id": "0daa2dc2",
   "metadata": {},
   "outputs": [
    {
     "data": {
      "text/plain": [
       "0      0.006399\n",
       "1      0.005225\n",
       "2      0.006150\n",
       "4      0.011490\n",
       "5      0.007510\n",
       "         ...   \n",
       "550    0.009579\n",
       "551    0.003495\n",
       "553    0.010940\n",
       "558    0.004242\n",
       "564    0.010300\n",
       "Name: smoothness error, Length: 455, dtype: float64"
      ]
     },
     "execution_count": 70,
     "metadata": {},
     "output_type": "execute_result"
    }
   ],
   "source": [
    "bc_df['smoothness error'][~(Remove_outliers_Q1se|Remove_outliers_Q3se)]"
   ]
  },
  {
   "cell_type": "code",
   "execution_count": 71,
   "id": "963d522b",
   "metadata": {},
   "outputs": [],
   "source": [
    "bc_df= bc_df[~(Remove_outliers_Q1se|Remove_outliers_Q3se)]"
   ]
  },
  {
   "cell_type": "code",
   "execution_count": 72,
   "id": "cd782c03",
   "metadata": {},
   "outputs": [
    {
     "data": {
      "text/plain": [
       "<AxesSubplot:xlabel='smoothness error'>"
      ]
     },
     "execution_count": 72,
     "metadata": {},
     "output_type": "execute_result"
    },
    {
     "data": {
      "image/png": "[encoded data removed]",
      "text/plain": [
       "<Figure size 432x288 with 1 Axes>"
      ]
     },
     "metadata": {
      "needs_background": "light"
     },
     "output_type": "display_data"
    }
   ],
   "source": [
    "import seaborn as sns\n",
    "sns.boxplot(x=bc_df['smoothness error'])"
   ]
  },
  {
   "cell_type": "code",
   "execution_count": 73,
   "id": "35a9a8bb",
   "metadata": {},
   "outputs": [
    {
     "data": {
      "text/plain": [
       "<AxesSubplot:xlabel='symmetry error'>"
      ]
     },
     "execution_count": 73,
     "metadata": {},
     "output_type": "execute_result"
    },
    {
     "data": {
      "image/png": "[encoded data removed]",
      "text/plain": [
       "<Figure size 432x288 with 1 Axes>"
      ]
     },
     "metadata": {
      "needs_background": "light"
     },
     "output_type": "display_data"
    }
   ],
   "source": [
    "import seaborn as sns\n",
    "sns.boxplot(x=bc_df['symmetry error'])"
   ]
  },
  {
   "cell_type": "code",
   "execution_count": 74,
   "id": "73abeefe",
   "metadata": {},
   "outputs": [],
   "source": [
    "Q1sy_e= bc_df['symmetry error'].quantile(0.25)"
   ]
  },
  {
   "cell_type": "code",
   "execution_count": 75,
   "id": "501c0c52",
   "metadata": {},
   "outputs": [],
   "source": [
    "Q3sy_e= bc_df['symmetry error'].quantile(0.75)"
   ]
  },
  {
   "cell_type": "code",
   "execution_count": 76,
   "id": "66208c64",
   "metadata": {},
   "outputs": [
    {
     "data": {
      "text/plain": [
       "0.007574999999999998"
      ]
     },
     "execution_count": 76,
     "metadata": {},
     "output_type": "execute_result"
    }
   ],
   "source": [
    "QR_symmetry_error = Q3sy_e - Q1sy_e\n",
    "QR_symmetry_error"
   ]
  },
  {
   "cell_type": "code",
   "execution_count": 77,
   "id": "83726dac",
   "metadata": {},
   "outputs": [
    {
     "data": {
      "text/plain": [
       "0.0035825000000000023"
      ]
     },
     "execution_count": 77,
     "metadata": {},
     "output_type": "execute_result"
    }
   ],
   "source": [
    "Acceptable_Q1sy_e = Q1sy_e - 1.5 * QR_symmetry_error\n",
    "Acceptable_Q1sy_e"
   ]
  },
  {
   "cell_type": "code",
   "execution_count": 78,
   "id": "51027ed0",
   "metadata": {},
   "outputs": [
    {
     "data": {
      "text/plain": [
       "0.033882499999999996"
      ]
     },
     "execution_count": 78,
     "metadata": {},
     "output_type": "execute_result"
    }
   ],
   "source": [
    "Acceptable_Q3sy_e = Q3sy_e + 1.5 * QR_symmetry_error\n",
    "Acceptable_Q3sy_e"
   ]
  },
  {
   "cell_type": "code",
   "execution_count": 79,
   "id": "7e41833d",
   "metadata": {},
   "outputs": [],
   "source": [
    "Remove_outliers_Q1sy_e = (bc_df['symmetry error']<Acceptable_Q1sy_e)"
   ]
  },
  {
   "cell_type": "code",
   "execution_count": 80,
   "id": "a560c5e8",
   "metadata": {},
   "outputs": [],
   "source": [
    "Remove_outliers_Q3sy_e = (bc_df['symmetry error']>Acceptable_Q3sy_e)"
   ]
  },
  {
   "cell_type": "code",
   "execution_count": 81,
   "id": "673d9bd8",
   "metadata": {},
   "outputs": [
    {
     "data": {
      "text/plain": [
       "0      0.03003\n",
       "1      0.01389\n",
       "2      0.02250\n",
       "4      0.01756\n",
       "5      0.02165\n",
       "        ...   \n",
       "549    0.02466\n",
       "550    0.03004\n",
       "551    0.02912\n",
       "558    0.01638\n",
       "564    0.01114\n",
       "Name: symmetry error, Length: 438, dtype: float64"
      ]
     },
     "execution_count": 81,
     "metadata": {},
     "output_type": "execute_result"
    }
   ],
   "source": [
    "bc_df['symmetry error'][~(Remove_outliers_Q1sy_e|Remove_outliers_Q3sy_e)]"
   ]
  },
  {
   "cell_type": "code",
   "execution_count": 82,
   "id": "e5f80ffa",
   "metadata": {},
   "outputs": [],
   "source": [
    "bc_df= bc_df[~(Remove_outliers_Q1sy_e|Remove_outliers_Q3sy_e)]"
   ]
  },
  {
   "cell_type": "code",
   "execution_count": 83,
   "id": "ca9743dd",
   "metadata": {},
   "outputs": [
    {
     "data": {
      "text/plain": [
       "<AxesSubplot:xlabel='symmetry error'>"
      ]
     },
     "execution_count": 83,
     "metadata": {},
     "output_type": "execute_result"
    },
    {
     "data": {
      "image/png": "[encoded data removed]",
      "text/plain": [
       "<Figure size 432x288 with 1 Axes>"
      ]
     },
     "metadata": {
      "needs_background": "light"
     },
     "output_type": "display_data"
    }
   ],
   "source": [
    "import seaborn as sns\n",
    "sns.boxplot(x=bc_df['symmetry error'])"
   ]
  },
  {
   "cell_type": "code",
   "execution_count": 84,
   "id": "bcdfeb7f",
   "metadata": {},
   "outputs": [
    {
     "data": {
      "text/plain": [
       "<AxesSubplot:xlabel='fractal dimension error'>"
      ]
     },
     "execution_count": 84,
     "metadata": {},
     "output_type": "execute_result"
    },
    {
     "data": {
      "image/png": "[encoded data removed]",
      "text/plain": [
       "<Figure size 432x288 with 1 Axes>"
      ]
     },
     "metadata": {
      "needs_background": "light"
     },
     "output_type": "display_data"
    }
   ],
   "source": [
    "import seaborn as sns\n",
    "sns.boxplot(x=bc_df['fractal dimension error'])"
   ]
  },
  {
   "cell_type": "code",
   "execution_count": 85,
   "id": "2a5f6b5c",
   "metadata": {},
   "outputs": [],
   "source": [
    "Q1f= bc_df['fractal dimension error'].quantile(0.25)"
   ]
  },
  {
   "cell_type": "code",
   "execution_count": 86,
   "id": "b3933c2a",
   "metadata": {},
   "outputs": [],
   "source": [
    "Q3f= bc_df['fractal dimension error'].quantile(0.75)"
   ]
  },
  {
   "cell_type": "code",
   "execution_count": 87,
   "id": "1abbe83c",
   "metadata": {},
   "outputs": [
    {
     "data": {
      "text/plain": [
       "0.0019017499999999998"
      ]
     },
     "execution_count": 87,
     "metadata": {},
     "output_type": "execute_result"
    }
   ],
   "source": [
    "QR_fractal = Q3f - Q1f\n",
    "QR_fractal"
   ]
  },
  {
   "cell_type": "code",
   "execution_count": 88,
   "id": "0f12892f",
   "metadata": {},
   "outputs": [
    {
     "data": {
      "text/plain": [
       "-0.0006928749999999995"
      ]
     },
     "execution_count": 88,
     "metadata": {},
     "output_type": "execute_result"
    }
   ],
   "source": [
    "Acceptable_Q1f = Q1f - 1.5 * QR_fractal\n",
    "Acceptable_Q1f"
   ]
  },
  {
   "cell_type": "code",
   "execution_count": 89,
   "id": "f7680e3e",
   "metadata": {},
   "outputs": [
    {
     "data": {
      "text/plain": [
       "0.006914125"
      ]
     },
     "execution_count": 89,
     "metadata": {},
     "output_type": "execute_result"
    }
   ],
   "source": [
    "Acceptable_Q3f = Q3f + 1.5 * QR_fractal\n",
    "Acceptable_Q3f"
   ]
  },
  {
   "cell_type": "code",
   "execution_count": 90,
   "id": "456cce42",
   "metadata": {},
   "outputs": [],
   "source": [
    "Remove_outliers_Q1f = (bc_df['fractal dimension error']<Acceptable_Q1f)"
   ]
  },
  {
   "cell_type": "code",
   "execution_count": 91,
   "id": "0abe2c60",
   "metadata": {},
   "outputs": [],
   "source": [
    "Remove_outliers_Q3f = (bc_df['fractal dimension error']>Acceptable_Q3f)"
   ]
  },
  {
   "cell_type": "code",
   "execution_count": 92,
   "id": "49c130ae",
   "metadata": {},
   "outputs": [
    {
     "data": {
      "text/plain": [
       "0      0.006193\n",
       "1      0.003532\n",
       "2      0.004571\n",
       "4      0.005115\n",
       "5      0.005082\n",
       "         ...   \n",
       "549    0.002977\n",
       "550    0.002228\n",
       "551    0.004723\n",
       "558    0.004406\n",
       "564    0.004239\n",
       "Name: fractal dimension error, Length: 416, dtype: float64"
      ]
     },
     "execution_count": 92,
     "metadata": {},
     "output_type": "execute_result"
    }
   ],
   "source": [
    "bc_df['fractal dimension error'][~(Remove_outliers_Q1f|Remove_outliers_Q3f)]"
   ]
  },
  {
   "cell_type": "code",
   "execution_count": 93,
   "id": "a6960f3f",
   "metadata": {},
   "outputs": [],
   "source": [
    "bc_df= bc_df[~(Remove_outliers_Q1f|Remove_outliers_Q3f)]"
   ]
  },
  {
   "cell_type": "code",
   "execution_count": 94,
   "id": "24bafb38",
   "metadata": {},
   "outputs": [
    {
     "data": {
      "text/plain": [
       "<AxesSubplot:xlabel='fractal dimension error'>"
      ]
     },
     "execution_count": 94,
     "metadata": {},
     "output_type": "execute_result"
    },
    {
     "data": {
      "image/png": "[encoded data removed]",
      "text/plain": [
       "<Figure size 432x288 with 1 Axes>"
      ]
     },
     "metadata": {
      "needs_background": "light"
     },
     "output_type": "display_data"
    }
   ],
   "source": [
    "import seaborn as sns\n",
    "sns.boxplot(x=bc_df['fractal dimension error'])"
   ]
  },
  {
   "cell_type": "code",
   "execution_count": 95,
   "id": "1194e9d1",
   "metadata": {},
   "outputs": [
    {
     "data": {
      "text/plain": [
       "<AxesSubplot:xlabel='worst concavity'>"
      ]
     },
     "execution_count": 95,
     "metadata": {},
     "output_type": "execute_result"
    },
    {
     "data": {
      "image/png": "[encoded data removed]",
      "text/plain": [
       "<Figure size 432x288 with 1 Axes>"
      ]
     },
     "metadata": {
      "needs_background": "light"
     },
     "output_type": "display_data"
    }
   ],
   "source": [
    "import seaborn as sns\n",
    "sns.boxplot(x=bc_df['worst concavity'])"
   ]
  },
  {
   "cell_type": "code",
   "execution_count": 96,
   "id": "27913030",
   "metadata": {},
   "outputs": [],
   "source": [
    "Q1c= bc_df['worst concavity'].quantile(0.25)"
   ]
  },
  {
   "cell_type": "code",
   "execution_count": 97,
   "id": "bd3e9519",
   "metadata": {},
   "outputs": [],
   "source": [
    "Q3c= bc_df['worst concavity'].quantile(0.75)"
   ]
  },
  {
   "cell_type": "code",
   "execution_count": 98,
   "id": "c96a7345",
   "metadata": {},
   "outputs": [
    {
     "data": {
      "text/plain": [
       "0.238275"
      ]
     },
     "execution_count": 98,
     "metadata": {},
     "output_type": "execute_result"
    }
   ],
   "source": [
    "QR_concavity = Q3c - Q1c\n",
    "QR_concavity"
   ]
  },
  {
   "cell_type": "code",
   "execution_count": 99,
   "id": "24f91b29",
   "metadata": {},
   "outputs": [
    {
     "data": {
      "text/plain": [
       "-0.24078749999999996"
      ]
     },
     "execution_count": 99,
     "metadata": {},
     "output_type": "execute_result"
    }
   ],
   "source": [
    "Acceptable_Q1c = Q1c - 1.5 * QR_concavity\n",
    "Acceptable_Q1c"
   ]
  },
  {
   "cell_type": "code",
   "execution_count": 100,
   "id": "bbc4bd87",
   "metadata": {},
   "outputs": [
    {
     "data": {
      "text/plain": [
       "0.7123124999999999"
      ]
     },
     "execution_count": 100,
     "metadata": {},
     "output_type": "execute_result"
    }
   ],
   "source": [
    "Acceptable_Q3c = Q3c + 1.5 * QR_concavity\n",
    "Acceptable_Q3c"
   ]
  },
  {
   "cell_type": "code",
   "execution_count": 101,
   "id": "59b25d47",
   "metadata": {},
   "outputs": [],
   "source": [
    "Remove_outliers_Q1c = (bc_df['worst concavity']<Acceptable_Q1c)"
   ]
  },
  {
   "cell_type": "code",
   "execution_count": 102,
   "id": "9acc3bda",
   "metadata": {},
   "outputs": [],
   "source": [
    "Remove_outliers_Q3c = (bc_df['worst concavity']>Acceptable_Q3c)"
   ]
  },
  {
   "cell_type": "code",
   "execution_count": 103,
   "id": "6a163c04",
   "metadata": {},
   "outputs": [
    {
     "data": {
      "text/plain": [
       "0      0.71190\n",
       "1      0.24160\n",
       "2      0.45040\n",
       "4      0.40000\n",
       "5      0.53550\n",
       "        ...   \n",
       "549    0.06194\n",
       "550    0.00000\n",
       "551    0.15640\n",
       "558    0.36620\n",
       "564    0.41070\n",
       "Name: worst concavity, Length: 411, dtype: float64"
      ]
     },
     "execution_count": 103,
     "metadata": {},
     "output_type": "execute_result"
    }
   ],
   "source": [
    "bc_df['worst concavity'][~(Remove_outliers_Q1c|Remove_outliers_Q3c)]\n"
   ]
  },
  {
   "cell_type": "code",
   "execution_count": 104,
   "id": "e3df955d",
   "metadata": {},
   "outputs": [],
   "source": [
    "bc_df= bc_df[~(Remove_outliers_Q1c|Remove_outliers_Q3c)]\n"
   ]
  },
  {
   "cell_type": "code",
   "execution_count": 105,
   "id": "6f11b02a",
   "metadata": {},
   "outputs": [
    {
     "data": {
      "text/plain": [
       "<AxesSubplot:xlabel='worst concavity'>"
      ]
     },
     "execution_count": 105,
     "metadata": {},
     "output_type": "execute_result"
    },
    {
     "data": {
      "image/png": "[encoded data removed]",
      "text/plain": [
       "<Figure size 432x288 with 1 Axes>"
      ]
     },
     "metadata": {
      "needs_background": "light"
     },
     "output_type": "display_data"
    }
   ],
   "source": [
    "import seaborn as sns\n",
    "sns.boxplot(x=bc_df['worst concavity'])"
   ]
  },
  {
   "cell_type": "code",
   "execution_count": 106,
   "id": "55f43f5c",
   "metadata": {},
   "outputs": [
    {
     "data": {
      "text/plain": [
       "<AxesSubplot:xlabel='worst symmetry'>"
      ]
     },
     "execution_count": 106,
     "metadata": {},
     "output_type": "execute_result"
    },
    {
     "data": {
      "image/png": "[encoded data removed]",
      "text/plain": [
       "<Figure size 432x288 with 1 Axes>"
      ]
     },
     "metadata": {
      "needs_background": "light"
     },
     "output_type": "display_data"
    }
   ],
   "source": [
    "import seaborn as sns\n",
    "sns.boxplot(x=bc_df['worst symmetry'])"
   ]
  },
  {
   "cell_type": "code",
   "execution_count": 107,
   "id": "a7cd6ca2",
   "metadata": {},
   "outputs": [],
   "source": [
    "Q1w= bc_df['worst symmetry'].quantile(0.25)"
   ]
  },
  {
   "cell_type": "code",
   "execution_count": 108,
   "id": "14e55aa3",
   "metadata": {},
   "outputs": [],
   "source": [
    "Q3w= bc_df['worst symmetry'].quantile(0.75)"
   ]
  },
  {
   "cell_type": "code",
   "execution_count": 109,
   "id": "9750e6e0",
   "metadata": {},
   "outputs": [
    {
     "data": {
      "text/plain": [
       "0.058550000000000046"
      ]
     },
     "execution_count": 109,
     "metadata": {},
     "output_type": "execute_result"
    }
   ],
   "source": [
    "QR_symmetry = Q3w- Q1w\n",
    "QR_symmetry"
   ]
  },
  {
   "cell_type": "code",
   "execution_count": 110,
   "id": "29920acc",
   "metadata": {},
   "outputs": [
    {
     "data": {
      "text/plain": [
       "0.16477499999999992"
      ]
     },
     "execution_count": 110,
     "metadata": {},
     "output_type": "execute_result"
    }
   ],
   "source": [
    "Acceptable_Q1w = Q1w - 1.5 * QR_symmetry\n",
    "Acceptable_Q1w"
   ]
  },
  {
   "cell_type": "code",
   "execution_count": 111,
   "id": "e28864db",
   "metadata": {},
   "outputs": [
    {
     "data": {
      "text/plain": [
       "0.3989750000000001"
      ]
     },
     "execution_count": 111,
     "metadata": {},
     "output_type": "execute_result"
    }
   ],
   "source": [
    "Acceptable_Q3w = Q3w + 1.5 * QR_symmetry\n",
    "Acceptable_Q3w"
   ]
  },
  {
   "cell_type": "code",
   "execution_count": 112,
   "id": "afc788be",
   "metadata": {},
   "outputs": [],
   "source": [
    "Remove_outliers_Q1w = (bc_df['worst symmetry']<Acceptable_Q1w)"
   ]
  },
  {
   "cell_type": "code",
   "execution_count": 113,
   "id": "188e24dc",
   "metadata": {},
   "outputs": [],
   "source": [
    "Remove_outliers_Q3w = (bc_df['worst symmetry']>Acceptable_Q3w)"
   ]
  },
  {
   "cell_type": "code",
   "execution_count": 114,
   "id": "c5f9894c",
   "metadata": {},
   "outputs": [
    {
     "data": {
      "text/plain": [
       "1      0.2750\n",
       "2      0.3613\n",
       "4      0.2364\n",
       "5      0.3985\n",
       "6      0.3063\n",
       "        ...  \n",
       "549    0.3059\n",
       "550    0.2458\n",
       "551    0.3169\n",
       "558    0.2258\n",
       "564    0.2060\n",
       "Name: worst symmetry, Length: 399, dtype: float64"
      ]
     },
     "execution_count": 114,
     "metadata": {},
     "output_type": "execute_result"
    }
   ],
   "source": [
    "bc_df['worst symmetry'][~(Remove_outliers_Q1w|Remove_outliers_Q3w)]"
   ]
  },
  {
   "cell_type": "code",
   "execution_count": 115,
   "id": "c8a6a88b",
   "metadata": {},
   "outputs": [],
   "source": [
    "bc_df= bc_df[~(Remove_outliers_Q1w|Remove_outliers_Q3w)]"
   ]
  },
  {
   "cell_type": "code",
   "execution_count": 116,
   "id": "f1ca52fe",
   "metadata": {},
   "outputs": [
    {
     "data": {
      "text/plain": [
       "<AxesSubplot:xlabel='worst symmetry'>"
      ]
     },
     "execution_count": 116,
     "metadata": {},
     "output_type": "execute_result"
    },
    {
     "data": {
      "image/png": "[encoded data removed]",
      "text/plain": [
       "<Figure size 432x288 with 1 Axes>"
      ]
     },
     "metadata": {
      "needs_background": "light"
     },
     "output_type": "display_data"
    }
   ],
   "source": [
    "import seaborn as sns\n",
    "sns.boxplot(x=bc_df['worst symmetry'])"
   ]
  },
  {
   "cell_type": "markdown",
   "id": "1568718f",
   "metadata": {},
   "source": [
    "# Preparing to Train the Model and using cross_val_score"
   ]
  },
  {
   "cell_type": "code",
   "execution_count": 120,
   "id": "9f1a5914",
   "metadata": {},
   "outputs": [
    {
     "data": {
      "text/plain": [
       "1      0\n",
       "2      0\n",
       "4      0\n",
       "5      0\n",
       "6      0\n",
       "      ..\n",
       "549    1\n",
       "550    1\n",
       "551    1\n",
       "558    1\n",
       "564    0\n",
       "Name: target, Length: 399, dtype: int64"
      ]
     },
     "execution_count": 120,
     "metadata": {},
     "output_type": "execute_result"
    }
   ],
   "source": [
    "bc_df['target']"
   ]
  },
  {
   "cell_type": "code",
   "execution_count": 121,
   "id": "06bd478e",
   "metadata": {},
   "outputs": [],
   "source": [
    "#Creating X and Y columns \n",
    "X = bc_df.drop(columns='target', axis=1)\n",
    "Y = bc_df['target']"
   ]
  },
  {
   "cell_type": "code",
   "execution_count": 185,
   "id": "1a1ea8ed",
   "metadata": {},
   "outputs": [
    {
     "data": {
      "text/plain": [
       "array([0.875     , 0.85      , 0.8875    , 0.8375    , 0.84810127])"
      ]
     },
     "execution_count": 185,
     "metadata": {},
     "output_type": "execute_result"
    }
   ],
   "source": [
    "# Using cross_val_score to get an accuracy score\n",
    "from sklearn.model_selection import cross_val_score\n",
    "Scores_Cross = cross_val_score(modelLogistic, X,Y,cv=5)\n",
    "Scores_Cross"
   ]
  },
  {
   "cell_type": "code",
   "execution_count": 187,
   "id": "d8084d14",
   "metadata": {},
   "outputs": [
    {
     "name": "stdout",
     "output_type": "stream",
     "text": [
      "Accuracy: 0.860 (+/- 0.037) \n"
     ]
    }
   ],
   "source": [
    "print(\"Accuracy: %0.3f (+/- %0.3f) \" % (Scores_Cross.mean(), Scores_Cross.std() * 2))"
   ]
  },
  {
   "cell_type": "code",
   "execution_count": 122,
   "id": "d73e3152",
   "metadata": {},
   "outputs": [],
   "source": [
    "#Splitting the Data\n",
    "from sklearn.model_selection import train_test_split\n",
    "X_train, X_test, Y_train, Y_test = train_test_split(X, Y, test_size=0.15, random_state=2)"
   ]
  },
  {
   "cell_type": "code",
   "execution_count": 123,
   "id": "780590b7",
   "metadata": {},
   "outputs": [
    {
     "data": {
      "text/plain": [
       "(339, 9)"
      ]
     },
     "execution_count": 123,
     "metadata": {},
     "output_type": "execute_result"
    }
   ],
   "source": [
    "#Checking the shape of X_train\n",
    "X_train.shape"
   ]
  },
  {
   "cell_type": "code",
   "execution_count": 124,
   "id": "857c2f2b",
   "metadata": {},
   "outputs": [
    {
     "data": {
      "text/plain": [
       "(60, 9)"
      ]
     },
     "execution_count": 124,
     "metadata": {},
     "output_type": "execute_result"
    }
   ],
   "source": [
    "#Checking the shape of X_test\n",
    "X_test.shape"
   ]
  },
  {
   "cell_type": "code",
   "execution_count": 125,
   "id": "6518f935",
   "metadata": {},
   "outputs": [],
   "source": [
    "#using a logistic regrssion \n",
    "from sklearn.linear_model import LogisticRegression\n",
    "modelLogistic = LogisticRegression()"
   ]
  },
  {
   "cell_type": "code",
   "execution_count": 126,
   "id": "c7816b68",
   "metadata": {},
   "outputs": [
    {
     "data": {
      "text/plain": [
       "LogisticRegression()"
      ]
     },
     "execution_count": 126,
     "metadata": {},
     "output_type": "execute_result"
    }
   ],
   "source": [
    "modelLogistic.fit(X_train, Y_train)"
   ]
  },
  {
   "cell_type": "code",
   "execution_count": 127,
   "id": "68c5a099",
   "metadata": {},
   "outputs": [],
   "source": [
    "#Getting the recall and acccuracy score for the training data\n",
    "from sklearn.metrics import accuracy_score\n",
    "from sklearn.metrics import recall_score\n",
    "Xtrain_pred = modelLogistic.predict(X_train)"
   ]
  },
  {
   "cell_type": "code",
   "execution_count": 128,
   "id": "410ef7cb",
   "metadata": {},
   "outputs": [],
   "source": [
    "accuracy_score_Logistic = accuracy_score(Y_train, Xtrain_pred)"
   ]
  },
  {
   "cell_type": "code",
   "execution_count": 129,
   "id": "1f2aa6ad",
   "metadata": {},
   "outputs": [],
   "source": [
    "recall_score_Logistic = recall_score(Y_train, Xtrain_pred)"
   ]
  },
  {
   "cell_type": "code",
   "execution_count": 130,
   "id": "c689a58c",
   "metadata": {},
   "outputs": [
    {
     "name": "stdout",
     "output_type": "stream",
     "text": [
      "The accuracy for the training data is =  0.8643067846607669\n"
     ]
    }
   ],
   "source": [
    "print('The accuracy for the training data is = ', accuracy_score_Logistic)"
   ]
  },
  {
   "cell_type": "code",
   "execution_count": 131,
   "id": "81732a87",
   "metadata": {},
   "outputs": [
    {
     "name": "stdout",
     "output_type": "stream",
     "text": [
      "The recall score for the training data is =  0.922077922077922\n"
     ]
    }
   ],
   "source": [
    "print('The recall score for the training data is = ',recall_score_Logistic)"
   ]
  },
  {
   "cell_type": "code",
   "execution_count": 133,
   "id": "f0fed507",
   "metadata": {},
   "outputs": [],
   "source": [
    "#Getting the acccuracy score and recall score for the test data\n",
    "Xtest_pred = modelLogistic.predict(X_test)"
   ]
  },
  {
   "cell_type": "code",
   "execution_count": 134,
   "id": "c351d23d",
   "metadata": {},
   "outputs": [],
   "source": [
    "accuracy_score_Logistic_test = accuracy_score(Y_test, Xtest_pred)"
   ]
  },
  {
   "cell_type": "code",
   "execution_count": 135,
   "id": "0e90f76b",
   "metadata": {},
   "outputs": [],
   "source": [
    "recall_score_Logistic_test = recall_score(Y_test, Xtest_pred)"
   ]
  },
  {
   "cell_type": "code",
   "execution_count": 136,
   "id": "921e58e9",
   "metadata": {},
   "outputs": [
    {
     "name": "stdout",
     "output_type": "stream",
     "text": [
      "The accuracy for the test data is =  0.8\n"
     ]
    }
   ],
   "source": [
    "print('The accuracy for the test data is = ', accuracy_score_Logistic_test)"
   ]
  },
  {
   "cell_type": "code",
   "execution_count": 137,
   "id": "ee466d26",
   "metadata": {},
   "outputs": [
    {
     "name": "stdout",
     "output_type": "stream",
     "text": [
      "The recall score for the test data is =  0.9473684210526315\n"
     ]
    }
   ],
   "source": [
    "print('The recall score for the test data is = ',recall_score_Logistic_test)"
   ]
  },
  {
   "cell_type": "code",
   "execution_count": 138,
   "id": "a1351135",
   "metadata": {},
   "outputs": [],
   "source": [
    "#using the Kneighbor classifier \n",
    "from sklearn.neighbors import KNeighborsClassifier\n",
    "model_kn = KNeighborsClassifier()"
   ]
  },
  {
   "cell_type": "code",
   "execution_count": 139,
   "id": "709d1540",
   "metadata": {},
   "outputs": [
    {
     "data": {
      "text/plain": [
       "KNeighborsClassifier()"
      ]
     },
     "execution_count": 139,
     "metadata": {},
     "output_type": "execute_result"
    }
   ],
   "source": [
    "model_kn.fit(X_train, Y_train)"
   ]
  },
  {
   "cell_type": "code",
   "execution_count": 140,
   "id": "06fa6f6d",
   "metadata": {},
   "outputs": [],
   "source": [
    "Xtrain_pred_kn = model_kn.predict(X_train)"
   ]
  },
  {
   "cell_type": "code",
   "execution_count": 141,
   "id": "a765be6b",
   "metadata": {},
   "outputs": [],
   "source": [
    "#Getting the recall and acccuracy score for the training data\n",
    "accuracy_score_KNeighbors = accuracy_score(Y_train, Xtrain_pred_kn)"
   ]
  },
  {
   "cell_type": "code",
   "execution_count": 142,
   "id": "848da5a3",
   "metadata": {},
   "outputs": [],
   "source": [
    "recall_score_KNeighbors = recall_score(Y_train, Xtrain_pred_kn)"
   ]
  },
  {
   "cell_type": "code",
   "execution_count": 143,
   "id": "e130adf3",
   "metadata": {},
   "outputs": [
    {
     "name": "stdout",
     "output_type": "stream",
     "text": [
      "The accuracy for the training data is =  0.8790560471976401\n"
     ]
    }
   ],
   "source": [
    "print('The accuracy for the training data is = ', accuracy_score_KNeighbors)"
   ]
  },
  {
   "cell_type": "code",
   "execution_count": 144,
   "id": "9bf3c3d9",
   "metadata": {},
   "outputs": [
    {
     "name": "stdout",
     "output_type": "stream",
     "text": [
      "The recall score for the training data is =  0.935064935064935\n"
     ]
    }
   ],
   "source": [
    "print('The recall score for the training data is = ', recall_score_KNeighbors)"
   ]
  },
  {
   "cell_type": "code",
   "execution_count": 145,
   "id": "872eed21",
   "metadata": {},
   "outputs": [],
   "source": [
    "#Getting the acccuracy score for the test data\n",
    "Xtest_pred = model_kn.predict(X_test)"
   ]
  },
  {
   "cell_type": "code",
   "execution_count": 146,
   "id": "c22e487c",
   "metadata": {},
   "outputs": [],
   "source": [
    "accuracy_score_KNeighbors_test = accuracy_score(Y_test, Xtest_pred)"
   ]
  },
  {
   "cell_type": "code",
   "execution_count": 147,
   "id": "a396fb1f",
   "metadata": {},
   "outputs": [],
   "source": [
    "recall_score_KNeighbors_test = recall_score(Y_test, Xtest_pred)"
   ]
  },
  {
   "cell_type": "code",
   "execution_count": 148,
   "id": "505e3927",
   "metadata": {},
   "outputs": [
    {
     "name": "stdout",
     "output_type": "stream",
     "text": [
      "The accuracy for the test data is =  0.7166666666666667\n"
     ]
    }
   ],
   "source": [
    "print('The accuracy for the test data is = ', accuracy_score_KNeighbors_test)"
   ]
  },
  {
   "cell_type": "code",
   "execution_count": 149,
   "id": "295849fb",
   "metadata": {},
   "outputs": [
    {
     "name": "stdout",
     "output_type": "stream",
     "text": [
      "The recall score for the test data is =  0.935064935064935\n"
     ]
    }
   ],
   "source": [
    "print('The recall score for the test data is = ', recall_score_KNeighbors)"
   ]
  },
  {
   "cell_type": "code",
   "execution_count": 163,
   "id": "9c13df05",
   "metadata": {},
   "outputs": [
    {
     "data": {
      "text/plain": [
       "DecisionTreeClassifier()"
      ]
     },
     "execution_count": 163,
     "metadata": {},
     "output_type": "execute_result"
    }
   ],
   "source": [
    "#Getting the recall and acccuracy score for the training data\n",
    "from sklearn.tree import DecisionTreeClassifier\n",
    "model_decision= DecisionTreeClassifier()\n",
    "model_decision.fit(X_train, Y_train)"
   ]
  },
  {
   "cell_type": "code",
   "execution_count": 164,
   "id": "725dcbfe",
   "metadata": {},
   "outputs": [],
   "source": [
    "Xtrain_pred_decision = model_decision.predict(X_train)"
   ]
  },
  {
   "cell_type": "code",
   "execution_count": 165,
   "id": "e64441b5",
   "metadata": {},
   "outputs": [],
   "source": [
    "accuracy_score_decision = accuracy_score(Y_train, Xtrain_pred_decision)"
   ]
  },
  {
   "cell_type": "code",
   "execution_count": 166,
   "id": "876fd2ea",
   "metadata": {},
   "outputs": [],
   "source": [
    "recall_score_decision = recall_score(Y_train, Xtrain_pred_decision)"
   ]
  },
  {
   "cell_type": "code",
   "execution_count": 167,
   "id": "d7707e88",
   "metadata": {},
   "outputs": [
    {
     "name": "stdout",
     "output_type": "stream",
     "text": [
      "The accuracy for the training data is =  1.0\n"
     ]
    }
   ],
   "source": [
    "print('The accuracy for the training data is = ', accuracy_score_decision)"
   ]
  },
  {
   "cell_type": "code",
   "execution_count": 168,
   "id": "8ade32c0",
   "metadata": {},
   "outputs": [
    {
     "name": "stdout",
     "output_type": "stream",
     "text": [
      "The recall for the training data is =  1.0\n"
     ]
    }
   ],
   "source": [
    "print('The recall for the training data is = ', recall_score_decision)"
   ]
  },
  {
   "cell_type": "code",
   "execution_count": 169,
   "id": "428f0e7f",
   "metadata": {},
   "outputs": [],
   "source": [
    "#Getting the acccuracy score for the test data\n",
    "Xtest_pred = model_decision.predict(X_test)"
   ]
  },
  {
   "cell_type": "code",
   "execution_count": 170,
   "id": "37e3494c",
   "metadata": {},
   "outputs": [],
   "source": [
    "accuracy_score_decision_test = accuracy_score(Y_test, Xtest_pred)"
   ]
  },
  {
   "cell_type": "code",
   "execution_count": 171,
   "id": "36785967",
   "metadata": {},
   "outputs": [],
   "source": [
    "recall_score_decision_test = recall_score(Y_test, Xtest_pred)"
   ]
  },
  {
   "cell_type": "code",
   "execution_count": 172,
   "id": "ce07d0f2",
   "metadata": {},
   "outputs": [
    {
     "name": "stdout",
     "output_type": "stream",
     "text": [
      "The accuracy for the test data is =  0.75\n"
     ]
    }
   ],
   "source": [
    "print('The accuracy for the test data is = ', accuracy_score_decision_test)"
   ]
  },
  {
   "cell_type": "code",
   "execution_count": 173,
   "id": "c70984a0",
   "metadata": {},
   "outputs": [
    {
     "name": "stdout",
     "output_type": "stream",
     "text": [
      "The recall for the test data is =  0.8421052631578947\n"
     ]
    }
   ],
   "source": [
    "print('The recall for the test data is = ', recall_score_decision_test)"
   ]
  },
  {
   "cell_type": "code",
   "execution_count": 174,
   "id": "a5f7ea9c",
   "metadata": {},
   "outputs": [],
   "source": [
    "from sklearn.dummy import DummyClassifier"
   ]
  },
  {
   "cell_type": "code",
   "execution_count": 175,
   "id": "43925e52",
   "metadata": {},
   "outputs": [],
   "source": [
    "Baseline_model = DummyClassifier(strategy='most_frequent').fit(X_train, Y_train)"
   ]
  },
  {
   "cell_type": "code",
   "execution_count": 176,
   "id": "ea097d6e",
   "metadata": {},
   "outputs": [
    {
     "data": {
      "text/plain": [
       "0.6333333333333333"
      ]
     },
     "execution_count": 176,
     "metadata": {},
     "output_type": "execute_result"
    }
   ],
   "source": [
    "Baseline_model.score(X_test,Y_test)"
   ]
  },
  {
   "cell_type": "code",
   "execution_count": 178,
   "id": "80807da7",
   "metadata": {},
   "outputs": [
    {
     "name": "stderr",
     "output_type": "stream",
     "text": [
      "/Users/ananguyen/opt/anaconda3/lib/python3.8/site-packages/sklearn/linear_model/_logistic.py:814: ConvergenceWarning: lbfgs failed to converge (status=1):\n",
      "STOP: TOTAL NO. of ITERATIONS REACHED LIMIT.\n",
      "\n",
      "Increase the number of iterations (max_iter) or scale the data as shown in:\n",
      "    https://scikit-learn.org/stable/modules/preprocessing.html\n",
      "Please also refer to the documentation for alternative solver options:\n",
      "    https://scikit-learn.org/stable/modules/linear_model.html#logistic-regression\n",
      "  n_iter_i = _check_optimize_result(\n",
      "/Users/ananguyen/opt/anaconda3/lib/python3.8/site-packages/sklearn/linear_model/_logistic.py:814: ConvergenceWarning: lbfgs failed to converge (status=1):\n",
      "STOP: TOTAL NO. of ITERATIONS REACHED LIMIT.\n",
      "\n",
      "Increase the number of iterations (max_iter) or scale the data as shown in:\n",
      "    https://scikit-learn.org/stable/modules/preprocessing.html\n",
      "Please also refer to the documentation for alternative solver options:\n",
      "    https://scikit-learn.org/stable/modules/linear_model.html#logistic-regression\n",
      "  n_iter_i = _check_optimize_result(\n",
      "/Users/ananguyen/opt/anaconda3/lib/python3.8/site-packages/sklearn/linear_model/_logistic.py:814: ConvergenceWarning: lbfgs failed to converge (status=1):\n",
      "STOP: TOTAL NO. of ITERATIONS REACHED LIMIT.\n",
      "\n",
      "Increase the number of iterations (max_iter) or scale the data as shown in:\n",
      "    https://scikit-learn.org/stable/modules/preprocessing.html\n",
      "Please also refer to the documentation for alternative solver options:\n",
      "    https://scikit-learn.org/stable/modules/linear_model.html#logistic-regression\n",
      "  n_iter_i = _check_optimize_result(\n",
      "/Users/ananguyen/opt/anaconda3/lib/python3.8/site-packages/sklearn/model_selection/_validation.py:372: FitFailedWarning: \n",
      "90 fits failed out of a total of 180.\n",
      "The score on these train-test partitions for these parameters will be set to nan.\n",
      "If these failures are not expected, you can try to debug them by setting error_score='raise'.\n",
      "\n",
      "Below are more details about the failures:\n",
      "--------------------------------------------------------------------------------\n",
      "90 fits failed with the following error:\n",
      "Traceback (most recent call last):\n",
      "  File \"/Users/ananguyen/opt/anaconda3/lib/python3.8/site-packages/sklearn/model_selection/_validation.py\", line 680, in _fit_and_score\n",
      "    estimator.fit(X_train, y_train, **fit_params)\n",
      "  File \"/Users/ananguyen/opt/anaconda3/lib/python3.8/site-packages/sklearn/linear_model/_logistic.py\", line 1461, in fit\n",
      "    solver = _check_solver(self.solver, self.penalty, self.dual)\n",
      "  File \"/Users/ananguyen/opt/anaconda3/lib/python3.8/site-packages/sklearn/linear_model/_logistic.py\", line 447, in _check_solver\n",
      "    raise ValueError(\n",
      "ValueError: Solver lbfgs supports only 'l2' or 'none' penalties, got l1 penalty.\n",
      "\n",
      "  warnings.warn(some_fits_failed_message, FitFailedWarning)\n",
      "/Users/ananguyen/opt/anaconda3/lib/python3.8/site-packages/sklearn/model_selection/_search.py:969: UserWarning: One or more of the test scores are non-finite: [       nan 0.69910873        nan 0.85249554        nan 0.76987522\n",
      "        nan 0.89358289        nan 0.89652406        nan 0.89946524\n",
      "        nan 0.89946524        nan 0.89946524        nan 0.89946524]\n",
      "  warnings.warn(\n"
     ]
    },
    {
     "data": {
      "text/plain": [
       "{'C': 40, 'penalty': 'l2'}"
      ]
     },
     "execution_count": 178,
     "metadata": {},
     "output_type": "execute_result"
    }
   ],
   "source": [
    "#Performing a Gridsearch on Logistic regression\n",
    "from sklearn.model_selection import GridSearchCV\n",
    "param_grid = {'penalty': ['l1', 'l2'],'C':[0.001, 0.9, 0.01, 10, 25, 40, 60, 80, 100]}\n",
    "            \n",
    "grid_search_cv = GridSearchCV(LogisticRegression(), param_grid, cv=10, scoring='accuracy')\n",
    "grid_search_cv.fit(X_train, Y_train)\n",
    "grid_search_cv.best_params_"
   ]
  },
  {
   "cell_type": "code",
   "execution_count": 179,
   "id": "1dcfeccf",
   "metadata": {},
   "outputs": [
    {
     "name": "stderr",
     "output_type": "stream",
     "text": [
      "/Users/ananguyen/opt/anaconda3/lib/python3.8/site-packages/sklearn/linear_model/_logistic.py:814: ConvergenceWarning: lbfgs failed to converge (status=1):\n",
      "STOP: TOTAL NO. of ITERATIONS REACHED LIMIT.\n",
      "\n",
      "Increase the number of iterations (max_iter) or scale the data as shown in:\n",
      "    https://scikit-learn.org/stable/modules/preprocessing.html\n",
      "Please also refer to the documentation for alternative solver options:\n",
      "    https://scikit-learn.org/stable/modules/linear_model.html#logistic-regression\n",
      "  n_iter_i = _check_optimize_result(\n",
      "/Users/ananguyen/opt/anaconda3/lib/python3.8/site-packages/sklearn/linear_model/_logistic.py:814: ConvergenceWarning: lbfgs failed to converge (status=1):\n",
      "STOP: TOTAL NO. of ITERATIONS REACHED LIMIT.\n",
      "\n",
      "Increase the number of iterations (max_iter) or scale the data as shown in:\n",
      "    https://scikit-learn.org/stable/modules/preprocessing.html\n",
      "Please also refer to the documentation for alternative solver options:\n",
      "    https://scikit-learn.org/stable/modules/linear_model.html#logistic-regression\n",
      "  n_iter_i = _check_optimize_result(\n"
     ]
    },
    {
     "data": {
      "text/plain": [
       "{'C': 40, 'penalty': 'l2'}"
      ]
     },
     "execution_count": 179,
     "metadata": {},
     "output_type": "execute_result"
    }
   ],
   "source": [
    "#Performing a Gridsearch on Logistic regression\n",
    "from sklearn.model_selection import GridSearchCV\n",
    "param_grid = {'penalty': ['l2'],'C':[10, 25, 40, 60, 80]}\n",
    "            \n",
    "grid_search_cv = GridSearchCV(LogisticRegression(), param_grid, cv=10, scoring='accuracy')\n",
    "grid_search_cv.fit(X_train, Y_train)\n",
    "grid_search_cv.best_params_"
   ]
  },
  {
   "cell_type": "code",
   "execution_count": 180,
   "id": "24871fd8",
   "metadata": {},
   "outputs": [
    {
     "name": "stdout",
     "output_type": "stream",
     "text": [
      "Accuracy : 89.95%\n"
     ]
    }
   ],
   "source": [
    "accuracy = grid_search_cv.best_score_ *100\n",
    "print(\"Accuracy : {:.2f}%\".format(accuracy) )"
   ]
  },
  {
   "cell_type": "code",
   "execution_count": 21,
   "id": "d3fe86b2",
   "metadata": {},
   "outputs": [],
   "source": []
  },
  {
   "cell_type": "code",
   "execution_count": 181,
   "id": "874b21c9",
   "metadata": {},
   "outputs": [],
   "source": [
    "model = LogisticRegression(penalty='l2',C=40,)"
   ]
  },
  {
   "cell_type": "code",
   "execution_count": 182,
   "id": "d1f65d26",
   "metadata": {},
   "outputs": [
    {
     "data": {
      "text/plain": [
       "LogisticRegression(C=40)"
      ]
     },
     "execution_count": 182,
     "metadata": {},
     "output_type": "execute_result"
    }
   ],
   "source": [
    "model.fit(X_train, Y_train)"
   ]
  },
  {
   "cell_type": "code",
   "execution_count": 183,
   "id": "4c8cacd7",
   "metadata": {},
   "outputs": [],
   "source": [
    "from sklearn.preprocessing import StandardScaler\n",
    "\n",
    "scaler = StandardScaler()\n",
    "\n",
    "x_train = scaler.fit_transform(X_train)\n",
    "x_test = scaler.transform(X_test)"
   ]
  },
  {
   "cell_type": "code",
   "execution_count": 184,
   "id": "5c3a47bb",
   "metadata": {},
   "outputs": [
    {
     "name": "stdout",
     "output_type": "stream",
     "text": [
      "LogisticRegression(C=40)\n"
     ]
    }
   ],
   "source": [
    "import pickle\n",
    "pickle.dump(model, open('model.pkl', 'wb'))\n",
    "pickle.dump(scaler, open('scaler.pkl', 'wb'))\n",
    "\n",
    "model = pickle.load(open('model.pkl', 'rb'))\n",
    "print(model)"
   ]
  }
 ],
 "metadata": {
  "kernelspec": {
   "display_name": "Python 3 (ipykernel)",
   "language": "python",
   "name": "python3"
  },
  "language_info": {
   "codemirror_mode": {
    "name": "ipython",
    "version": 3
   },
   "file_extension": ".py",
   "mimetype": "text/x-python",
   "name": "python",
   "nbconvert_exporter": "python",
   "pygments_lexer": "ipython3",
   "version": "3.8.12"
  }
 },
 "nbformat": 4,
 "nbformat_minor": 5
}
